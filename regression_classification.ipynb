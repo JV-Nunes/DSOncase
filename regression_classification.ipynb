{
 "cells": [
  {
   "cell_type": "code",
   "execution_count": 1,
   "metadata": {},
   "outputs": [],
   "source": [
    "import pycaret\n",
    "import pandas as pd\n",
    "import numpy as np\n",
    "import sklearn"
   ]
  },
  {
   "cell_type": "code",
   "execution_count": 3,
   "metadata": {},
   "outputs": [],
   "source": [
    "from pycaret.classification import *"
   ]
  },
  {
   "attachments": {},
   "cell_type": "markdown",
   "metadata": {},
   "source": [
    "# Classificação"
   ]
  },
  {
   "cell_type": "code",
   "execution_count": 7,
   "metadata": {},
   "outputs": [],
   "source": [
    "class_test = pd.read_csv('Data/classification_data/classification_test.csv')\n",
    "class_train = pd.read_csv('Data/classification_data/classification_train.csv')"
   ]
  },
  {
   "attachments": {},
   "cell_type": "markdown",
   "metadata": {},
   "source": [
    "Para encontrar o  melhor modelo para cada caso, utilizarei o framework Pycaret como input inicial. Esse framework automatiza o pipeline de ML, abstraindo em alto nível.\n",
    "\n",
    "Utilizarei como critério de avaliação dos modelos o AUC, F1 Score, Precision e Recall"
   ]
  },
  {
   "cell_type": "code",
   "execution_count": 8,
   "metadata": {},
   "outputs": [
    {
     "data": {
      "text/html": [
       "<style type=\"text/css\">\n",
       "#T_1f462_row8_col1 {\n",
       "  background-color: lightgreen;\n",
       "}\n",
       "</style>\n",
       "<table id=\"T_1f462\">\n",
       "  <thead>\n",
       "    <tr>\n",
       "      <th class=\"blank level0\" >&nbsp;</th>\n",
       "      <th id=\"T_1f462_level0_col0\" class=\"col_heading level0 col0\" >Description</th>\n",
       "      <th id=\"T_1f462_level0_col1\" class=\"col_heading level0 col1\" >Value</th>\n",
       "    </tr>\n",
       "  </thead>\n",
       "  <tbody>\n",
       "    <tr>\n",
       "      <th id=\"T_1f462_level0_row0\" class=\"row_heading level0 row0\" >0</th>\n",
       "      <td id=\"T_1f462_row0_col0\" class=\"data row0 col0\" >Session id</td>\n",
       "      <td id=\"T_1f462_row0_col1\" class=\"data row0 col1\" >123</td>\n",
       "    </tr>\n",
       "    <tr>\n",
       "      <th id=\"T_1f462_level0_row1\" class=\"row_heading level0 row1\" >1</th>\n",
       "      <td id=\"T_1f462_row1_col0\" class=\"data row1 col0\" >Target</td>\n",
       "      <td id=\"T_1f462_row1_col1\" class=\"data row1 col1\" >target</td>\n",
       "    </tr>\n",
       "    <tr>\n",
       "      <th id=\"T_1f462_level0_row2\" class=\"row_heading level0 row2\" >2</th>\n",
       "      <td id=\"T_1f462_row2_col0\" class=\"data row2 col0\" >Target type</td>\n",
       "      <td id=\"T_1f462_row2_col1\" class=\"data row2 col1\" >Binary</td>\n",
       "    </tr>\n",
       "    <tr>\n",
       "      <th id=\"T_1f462_level0_row3\" class=\"row_heading level0 row3\" >3</th>\n",
       "      <td id=\"T_1f462_row3_col0\" class=\"data row3 col0\" >Original data shape</td>\n",
       "      <td id=\"T_1f462_row3_col1\" class=\"data row3 col1\" >(1000, 3)</td>\n",
       "    </tr>\n",
       "    <tr>\n",
       "      <th id=\"T_1f462_level0_row4\" class=\"row_heading level0 row4\" >4</th>\n",
       "      <td id=\"T_1f462_row4_col0\" class=\"data row4 col0\" >Transformed data shape</td>\n",
       "      <td id=\"T_1f462_row4_col1\" class=\"data row4 col1\" >(1000, 3)</td>\n",
       "    </tr>\n",
       "    <tr>\n",
       "      <th id=\"T_1f462_level0_row5\" class=\"row_heading level0 row5\" >5</th>\n",
       "      <td id=\"T_1f462_row5_col0\" class=\"data row5 col0\" >Transformed train set shape</td>\n",
       "      <td id=\"T_1f462_row5_col1\" class=\"data row5 col1\" >(670, 3)</td>\n",
       "    </tr>\n",
       "    <tr>\n",
       "      <th id=\"T_1f462_level0_row6\" class=\"row_heading level0 row6\" >6</th>\n",
       "      <td id=\"T_1f462_row6_col0\" class=\"data row6 col0\" >Transformed test set shape</td>\n",
       "      <td id=\"T_1f462_row6_col1\" class=\"data row6 col1\" >(330, 3)</td>\n",
       "    </tr>\n",
       "    <tr>\n",
       "      <th id=\"T_1f462_level0_row7\" class=\"row_heading level0 row7\" >7</th>\n",
       "      <td id=\"T_1f462_row7_col0\" class=\"data row7 col0\" >Numeric features</td>\n",
       "      <td id=\"T_1f462_row7_col1\" class=\"data row7 col1\" >2</td>\n",
       "    </tr>\n",
       "    <tr>\n",
       "      <th id=\"T_1f462_level0_row8\" class=\"row_heading level0 row8\" >8</th>\n",
       "      <td id=\"T_1f462_row8_col0\" class=\"data row8 col0\" >Preprocess</td>\n",
       "      <td id=\"T_1f462_row8_col1\" class=\"data row8 col1\" >True</td>\n",
       "    </tr>\n",
       "    <tr>\n",
       "      <th id=\"T_1f462_level0_row9\" class=\"row_heading level0 row9\" >9</th>\n",
       "      <td id=\"T_1f462_row9_col0\" class=\"data row9 col0\" >Imputation type</td>\n",
       "      <td id=\"T_1f462_row9_col1\" class=\"data row9 col1\" >simple</td>\n",
       "    </tr>\n",
       "    <tr>\n",
       "      <th id=\"T_1f462_level0_row10\" class=\"row_heading level0 row10\" >10</th>\n",
       "      <td id=\"T_1f462_row10_col0\" class=\"data row10 col0\" >Numeric imputation</td>\n",
       "      <td id=\"T_1f462_row10_col1\" class=\"data row10 col1\" >mean</td>\n",
       "    </tr>\n",
       "    <tr>\n",
       "      <th id=\"T_1f462_level0_row11\" class=\"row_heading level0 row11\" >11</th>\n",
       "      <td id=\"T_1f462_row11_col0\" class=\"data row11 col0\" >Categorical imputation</td>\n",
       "      <td id=\"T_1f462_row11_col1\" class=\"data row11 col1\" >mode</td>\n",
       "    </tr>\n",
       "    <tr>\n",
       "      <th id=\"T_1f462_level0_row12\" class=\"row_heading level0 row12\" >12</th>\n",
       "      <td id=\"T_1f462_row12_col0\" class=\"data row12 col0\" >Fold Generator</td>\n",
       "      <td id=\"T_1f462_row12_col1\" class=\"data row12 col1\" >StratifiedKFold</td>\n",
       "    </tr>\n",
       "    <tr>\n",
       "      <th id=\"T_1f462_level0_row13\" class=\"row_heading level0 row13\" >13</th>\n",
       "      <td id=\"T_1f462_row13_col0\" class=\"data row13 col0\" >Fold Number</td>\n",
       "      <td id=\"T_1f462_row13_col1\" class=\"data row13 col1\" >10</td>\n",
       "    </tr>\n",
       "    <tr>\n",
       "      <th id=\"T_1f462_level0_row14\" class=\"row_heading level0 row14\" >14</th>\n",
       "      <td id=\"T_1f462_row14_col0\" class=\"data row14 col0\" >CPU Jobs</td>\n",
       "      <td id=\"T_1f462_row14_col1\" class=\"data row14 col1\" >-1</td>\n",
       "    </tr>\n",
       "    <tr>\n",
       "      <th id=\"T_1f462_level0_row15\" class=\"row_heading level0 row15\" >15</th>\n",
       "      <td id=\"T_1f462_row15_col0\" class=\"data row15 col0\" >Use GPU</td>\n",
       "      <td id=\"T_1f462_row15_col1\" class=\"data row15 col1\" >False</td>\n",
       "    </tr>\n",
       "    <tr>\n",
       "      <th id=\"T_1f462_level0_row16\" class=\"row_heading level0 row16\" >16</th>\n",
       "      <td id=\"T_1f462_row16_col0\" class=\"data row16 col0\" >Log Experiment</td>\n",
       "      <td id=\"T_1f462_row16_col1\" class=\"data row16 col1\" >MlflowLogger</td>\n",
       "    </tr>\n",
       "    <tr>\n",
       "      <th id=\"T_1f462_level0_row17\" class=\"row_heading level0 row17\" >17</th>\n",
       "      <td id=\"T_1f462_row17_col0\" class=\"data row17 col0\" >Experiment Name</td>\n",
       "      <td id=\"T_1f462_row17_col1\" class=\"data row17 col1\" >classification</td>\n",
       "    </tr>\n",
       "    <tr>\n",
       "      <th id=\"T_1f462_level0_row18\" class=\"row_heading level0 row18\" >18</th>\n",
       "      <td id=\"T_1f462_row18_col0\" class=\"data row18 col0\" >USI</td>\n",
       "      <td id=\"T_1f462_row18_col1\" class=\"data row18 col1\" >998d</td>\n",
       "    </tr>\n",
       "  </tbody>\n",
       "</table>\n"
      ],
      "text/plain": [
       "<pandas.io.formats.style.Styler at 0x7f765ce22950>"
      ]
     },
     "metadata": {},
     "output_type": "display_data"
    }
   ],
   "source": [
    "s = setup(class_train, target = 'target', session_id = 123, log_experiment = True, experiment_name = 'classification', test_data=class_test, index=False)"
   ]
  },
  {
   "cell_type": "code",
   "execution_count": 15,
   "metadata": {},
   "outputs": [
    {
     "data": {
      "text/html": [],
      "text/plain": [
       "<IPython.core.display.HTML object>"
      ]
     },
     "metadata": {},
     "output_type": "display_data"
    },
    {
     "data": {
      "text/html": [
       "<style type=\"text/css\">\n",
       "#T_818f7 th {\n",
       "  text-align: left;\n",
       "}\n",
       "#T_818f7_row0_col0, #T_818f7_row0_col3, #T_818f7_row0_col4, #T_818f7_row1_col0, #T_818f7_row1_col1, #T_818f7_row1_col2, #T_818f7_row1_col3, #T_818f7_row1_col5, #T_818f7_row1_col6, #T_818f7_row1_col7, #T_818f7_row2_col0, #T_818f7_row2_col1, #T_818f7_row2_col2, #T_818f7_row2_col3, #T_818f7_row2_col4, #T_818f7_row2_col5, #T_818f7_row2_col6, #T_818f7_row2_col7, #T_818f7_row3_col0, #T_818f7_row3_col1, #T_818f7_row3_col2, #T_818f7_row3_col3, #T_818f7_row3_col4, #T_818f7_row3_col5, #T_818f7_row3_col6, #T_818f7_row3_col7, #T_818f7_row4_col0, #T_818f7_row4_col1, #T_818f7_row4_col2, #T_818f7_row4_col3, #T_818f7_row4_col4, #T_818f7_row4_col5, #T_818f7_row4_col6, #T_818f7_row4_col7, #T_818f7_row5_col0, #T_818f7_row5_col1, #T_818f7_row5_col2, #T_818f7_row5_col3, #T_818f7_row5_col4, #T_818f7_row5_col5, #T_818f7_row5_col6, #T_818f7_row5_col7, #T_818f7_row6_col0, #T_818f7_row6_col1, #T_818f7_row6_col2, #T_818f7_row6_col3, #T_818f7_row6_col4, #T_818f7_row6_col5, #T_818f7_row6_col6, #T_818f7_row6_col7, #T_818f7_row7_col0, #T_818f7_row7_col1, #T_818f7_row7_col2, #T_818f7_row7_col3, #T_818f7_row7_col4, #T_818f7_row7_col5, #T_818f7_row7_col6, #T_818f7_row7_col7, #T_818f7_row8_col0, #T_818f7_row8_col1, #T_818f7_row8_col2, #T_818f7_row8_col3, #T_818f7_row8_col4, #T_818f7_row8_col5, #T_818f7_row8_col6, #T_818f7_row8_col7, #T_818f7_row9_col0, #T_818f7_row9_col1, #T_818f7_row9_col2, #T_818f7_row9_col3, #T_818f7_row9_col4, #T_818f7_row9_col5, #T_818f7_row9_col6, #T_818f7_row9_col7, #T_818f7_row10_col0, #T_818f7_row10_col1, #T_818f7_row10_col2, #T_818f7_row10_col3, #T_818f7_row10_col4, #T_818f7_row10_col5, #T_818f7_row10_col6, #T_818f7_row10_col7, #T_818f7_row11_col0, #T_818f7_row11_col1, #T_818f7_row11_col2, #T_818f7_row11_col3, #T_818f7_row11_col4, #T_818f7_row11_col5, #T_818f7_row11_col6, #T_818f7_row11_col7, #T_818f7_row12_col0, #T_818f7_row12_col1, #T_818f7_row12_col2, #T_818f7_row12_col3, #T_818f7_row12_col4, #T_818f7_row12_col5, #T_818f7_row12_col6, #T_818f7_row12_col7, #T_818f7_row13_col0, #T_818f7_row13_col1, #T_818f7_row13_col2, #T_818f7_row13_col4, #T_818f7_row13_col5, #T_818f7_row13_col6, #T_818f7_row13_col7 {\n",
       "  text-align: left;\n",
       "}\n",
       "#T_818f7_row0_col1, #T_818f7_row0_col2, #T_818f7_row0_col5, #T_818f7_row0_col6, #T_818f7_row0_col7, #T_818f7_row1_col4, #T_818f7_row13_col3 {\n",
       "  text-align: left;\n",
       "  background-color: yellow;\n",
       "}\n",
       "#T_818f7_row0_col8, #T_818f7_row1_col8, #T_818f7_row2_col8, #T_818f7_row3_col8, #T_818f7_row4_col8, #T_818f7_row5_col8, #T_818f7_row6_col8, #T_818f7_row7_col8, #T_818f7_row8_col8, #T_818f7_row9_col8, #T_818f7_row10_col8, #T_818f7_row12_col8, #T_818f7_row13_col8 {\n",
       "  text-align: left;\n",
       "  background-color: lightgrey;\n",
       "}\n",
       "#T_818f7_row11_col8 {\n",
       "  text-align: left;\n",
       "  background-color: yellow;\n",
       "  background-color: lightgrey;\n",
       "}\n",
       "</style>\n",
       "<table id=\"T_818f7\">\n",
       "  <thead>\n",
       "    <tr>\n",
       "      <th class=\"blank level0\" >&nbsp;</th>\n",
       "      <th id=\"T_818f7_level0_col0\" class=\"col_heading level0 col0\" >Model</th>\n",
       "      <th id=\"T_818f7_level0_col1\" class=\"col_heading level0 col1\" >Accuracy</th>\n",
       "      <th id=\"T_818f7_level0_col2\" class=\"col_heading level0 col2\" >AUC</th>\n",
       "      <th id=\"T_818f7_level0_col3\" class=\"col_heading level0 col3\" >Recall</th>\n",
       "      <th id=\"T_818f7_level0_col4\" class=\"col_heading level0 col4\" >Prec.</th>\n",
       "      <th id=\"T_818f7_level0_col5\" class=\"col_heading level0 col5\" >F1</th>\n",
       "      <th id=\"T_818f7_level0_col6\" class=\"col_heading level0 col6\" >Kappa</th>\n",
       "      <th id=\"T_818f7_level0_col7\" class=\"col_heading level0 col7\" >MCC</th>\n",
       "      <th id=\"T_818f7_level0_col8\" class=\"col_heading level0 col8\" >TT (Sec)</th>\n",
       "    </tr>\n",
       "  </thead>\n",
       "  <tbody>\n",
       "    <tr>\n",
       "      <th id=\"T_818f7_level0_row0\" class=\"row_heading level0 row0\" >gbc</th>\n",
       "      <td id=\"T_818f7_row0_col0\" class=\"data row0 col0\" >Gradient Boosting Classifier</td>\n",
       "      <td id=\"T_818f7_row0_col1\" class=\"data row0 col1\" >0.8836</td>\n",
       "      <td id=\"T_818f7_row0_col2\" class=\"data row0 col2\" >0.9369</td>\n",
       "      <td id=\"T_818f7_row0_col3\" class=\"data row0 col3\" >0.9057</td>\n",
       "      <td id=\"T_818f7_row0_col4\" class=\"data row0 col4\" >0.8702</td>\n",
       "      <td id=\"T_818f7_row0_col5\" class=\"data row0 col5\" >0.8865</td>\n",
       "      <td id=\"T_818f7_row0_col6\" class=\"data row0 col6\" >0.7671</td>\n",
       "      <td id=\"T_818f7_row0_col7\" class=\"data row0 col7\" >0.7697</td>\n",
       "      <td id=\"T_818f7_row0_col8\" class=\"data row0 col8\" >0.0690</td>\n",
       "    </tr>\n",
       "    <tr>\n",
       "      <th id=\"T_818f7_level0_row1\" class=\"row_heading level0 row1\" >knn</th>\n",
       "      <td id=\"T_818f7_row1_col0\" class=\"data row1 col0\" >K Neighbors Classifier</td>\n",
       "      <td id=\"T_818f7_row1_col1\" class=\"data row1 col1\" >0.8776</td>\n",
       "      <td id=\"T_818f7_row1_col2\" class=\"data row1 col2\" >0.9268</td>\n",
       "      <td id=\"T_818f7_row1_col3\" class=\"data row1 col3\" >0.8851</td>\n",
       "      <td id=\"T_818f7_row1_col4\" class=\"data row1 col4\" >0.8762</td>\n",
       "      <td id=\"T_818f7_row1_col5\" class=\"data row1 col5\" >0.8794</td>\n",
       "      <td id=\"T_818f7_row1_col6\" class=\"data row1 col6\" >0.7553</td>\n",
       "      <td id=\"T_818f7_row1_col7\" class=\"data row1 col7\" >0.7574</td>\n",
       "      <td id=\"T_818f7_row1_col8\" class=\"data row1 col8\" >3.6510</td>\n",
       "    </tr>\n",
       "    <tr>\n",
       "      <th id=\"T_818f7_level0_row2\" class=\"row_heading level0 row2\" >ada</th>\n",
       "      <td id=\"T_818f7_row2_col0\" class=\"data row2 col0\" >Ada Boost Classifier</td>\n",
       "      <td id=\"T_818f7_row2_col1\" class=\"data row2 col1\" >0.8701</td>\n",
       "      <td id=\"T_818f7_row2_col2\" class=\"data row2 col2\" >0.9363</td>\n",
       "      <td id=\"T_818f7_row2_col3\" class=\"data row2 col3\" >0.8969</td>\n",
       "      <td id=\"T_818f7_row2_col4\" class=\"data row2 col4\" >0.8539</td>\n",
       "      <td id=\"T_818f7_row2_col5\" class=\"data row2 col5\" >0.8746</td>\n",
       "      <td id=\"T_818f7_row2_col6\" class=\"data row2 col6\" >0.7401</td>\n",
       "      <td id=\"T_818f7_row2_col7\" class=\"data row2 col7\" >0.7417</td>\n",
       "      <td id=\"T_818f7_row2_col8\" class=\"data row2 col8\" >0.0600</td>\n",
       "    </tr>\n",
       "    <tr>\n",
       "      <th id=\"T_818f7_level0_row3\" class=\"row_heading level0 row3\" >et</th>\n",
       "      <td id=\"T_818f7_row3_col0\" class=\"data row3 col0\" >Extra Trees Classifier</td>\n",
       "      <td id=\"T_818f7_row3_col1\" class=\"data row3 col1\" >0.8687</td>\n",
       "      <td id=\"T_818f7_row3_col2\" class=\"data row3 col2\" >0.9325</td>\n",
       "      <td id=\"T_818f7_row3_col3\" class=\"data row3 col3\" >0.8703</td>\n",
       "      <td id=\"T_818f7_row3_col4\" class=\"data row3 col4\" >0.8722</td>\n",
       "      <td id=\"T_818f7_row3_col5\" class=\"data row3 col5\" >0.8700</td>\n",
       "      <td id=\"T_818f7_row3_col6\" class=\"data row3 col6\" >0.7374</td>\n",
       "      <td id=\"T_818f7_row3_col7\" class=\"data row3 col7\" >0.7396</td>\n",
       "      <td id=\"T_818f7_row3_col8\" class=\"data row3 col8\" >0.5910</td>\n",
       "    </tr>\n",
       "    <tr>\n",
       "      <th id=\"T_818f7_level0_row4\" class=\"row_heading level0 row4\" >rf</th>\n",
       "      <td id=\"T_818f7_row4_col0\" class=\"data row4 col0\" >Random Forest Classifier</td>\n",
       "      <td id=\"T_818f7_row4_col1\" class=\"data row4 col1\" >0.8657</td>\n",
       "      <td id=\"T_818f7_row4_col2\" class=\"data row4 col2\" >0.9307</td>\n",
       "      <td id=\"T_818f7_row4_col3\" class=\"data row4 col3\" >0.8703</td>\n",
       "      <td id=\"T_818f7_row4_col4\" class=\"data row4 col4\" >0.8661</td>\n",
       "      <td id=\"T_818f7_row4_col5\" class=\"data row4 col5\" >0.8670</td>\n",
       "      <td id=\"T_818f7_row4_col6\" class=\"data row4 col6\" >0.7314</td>\n",
       "      <td id=\"T_818f7_row4_col7\" class=\"data row4 col7\" >0.7334</td>\n",
       "      <td id=\"T_818f7_row4_col8\" class=\"data row4 col8\" >0.1950</td>\n",
       "    </tr>\n",
       "    <tr>\n",
       "      <th id=\"T_818f7_level0_row5\" class=\"row_heading level0 row5\" >lightgbm</th>\n",
       "      <td id=\"T_818f7_row5_col0\" class=\"data row5 col0\" >Light Gradient Boosting Machine</td>\n",
       "      <td id=\"T_818f7_row5_col1\" class=\"data row5 col1\" >0.8642</td>\n",
       "      <td id=\"T_818f7_row5_col2\" class=\"data row5 col2\" >0.9310</td>\n",
       "      <td id=\"T_818f7_row5_col3\" class=\"data row5 col3\" >0.8644</td>\n",
       "      <td id=\"T_818f7_row5_col4\" class=\"data row5 col4\" >0.8704</td>\n",
       "      <td id=\"T_818f7_row5_col5\" class=\"data row5 col5\" >0.8654</td>\n",
       "      <td id=\"T_818f7_row5_col6\" class=\"data row5 col6\" >0.7286</td>\n",
       "      <td id=\"T_818f7_row5_col7\" class=\"data row5 col7\" >0.7320</td>\n",
       "      <td id=\"T_818f7_row5_col8\" class=\"data row5 col8\" >0.0710</td>\n",
       "    </tr>\n",
       "    <tr>\n",
       "      <th id=\"T_818f7_level0_row6\" class=\"row_heading level0 row6\" >nb</th>\n",
       "      <td id=\"T_818f7_row6_col0\" class=\"data row6 col0\" >Naive Bayes</td>\n",
       "      <td id=\"T_818f7_row6_col1\" class=\"data row6 col1\" >0.8373</td>\n",
       "      <td id=\"T_818f7_row6_col2\" class=\"data row6 col2\" >0.9201</td>\n",
       "      <td id=\"T_818f7_row6_col3\" class=\"data row6 col3\" >0.8349</td>\n",
       "      <td id=\"T_818f7_row6_col4\" class=\"data row6 col4\" >0.8421</td>\n",
       "      <td id=\"T_818f7_row6_col5\" class=\"data row6 col5\" >0.8381</td>\n",
       "      <td id=\"T_818f7_row6_col6\" class=\"data row6 col6\" >0.6746</td>\n",
       "      <td id=\"T_818f7_row6_col7\" class=\"data row6 col7\" >0.6752</td>\n",
       "      <td id=\"T_818f7_row6_col8\" class=\"data row6 col8\" >0.0230</td>\n",
       "    </tr>\n",
       "    <tr>\n",
       "      <th id=\"T_818f7_level0_row7\" class=\"row_heading level0 row7\" >qda</th>\n",
       "      <td id=\"T_818f7_row7_col0\" class=\"data row7 col0\" >Quadratic Discriminant Analysis</td>\n",
       "      <td id=\"T_818f7_row7_col1\" class=\"data row7 col1\" >0.8373</td>\n",
       "      <td id=\"T_818f7_row7_col2\" class=\"data row7 col2\" >0.9198</td>\n",
       "      <td id=\"T_818f7_row7_col3\" class=\"data row7 col3\" >0.8349</td>\n",
       "      <td id=\"T_818f7_row7_col4\" class=\"data row7 col4\" >0.8421</td>\n",
       "      <td id=\"T_818f7_row7_col5\" class=\"data row7 col5\" >0.8381</td>\n",
       "      <td id=\"T_818f7_row7_col6\" class=\"data row7 col6\" >0.6746</td>\n",
       "      <td id=\"T_818f7_row7_col7\" class=\"data row7 col7\" >0.6752</td>\n",
       "      <td id=\"T_818f7_row7_col8\" class=\"data row7 col8\" >0.0290</td>\n",
       "    </tr>\n",
       "    <tr>\n",
       "      <th id=\"T_818f7_level0_row8\" class=\"row_heading level0 row8\" >lr</th>\n",
       "      <td id=\"T_818f7_row8_col0\" class=\"data row8 col0\" >Logistic Regression</td>\n",
       "      <td id=\"T_818f7_row8_col1\" class=\"data row8 col1\" >0.8358</td>\n",
       "      <td id=\"T_818f7_row8_col2\" class=\"data row8 col2\" >0.9207</td>\n",
       "      <td id=\"T_818f7_row8_col3\" class=\"data row8 col3\" >0.8349</td>\n",
       "      <td id=\"T_818f7_row8_col4\" class=\"data row8 col4\" >0.8404</td>\n",
       "      <td id=\"T_818f7_row8_col5\" class=\"data row8 col5\" >0.8369</td>\n",
       "      <td id=\"T_818f7_row8_col6\" class=\"data row8 col6\" >0.6717</td>\n",
       "      <td id=\"T_818f7_row8_col7\" class=\"data row8 col7\" >0.6728</td>\n",
       "      <td id=\"T_818f7_row8_col8\" class=\"data row8 col8\" >1.2050</td>\n",
       "    </tr>\n",
       "    <tr>\n",
       "      <th id=\"T_818f7_level0_row9\" class=\"row_heading level0 row9\" >ridge</th>\n",
       "      <td id=\"T_818f7_row9_col0\" class=\"data row9 col0\" >Ridge Classifier</td>\n",
       "      <td id=\"T_818f7_row9_col1\" class=\"data row9 col1\" >0.8358</td>\n",
       "      <td id=\"T_818f7_row9_col2\" class=\"data row9 col2\" >0.0000</td>\n",
       "      <td id=\"T_818f7_row9_col3\" class=\"data row9 col3\" >0.8320</td>\n",
       "      <td id=\"T_818f7_row9_col4\" class=\"data row9 col4\" >0.8417</td>\n",
       "      <td id=\"T_818f7_row9_col5\" class=\"data row9 col5\" >0.8364</td>\n",
       "      <td id=\"T_818f7_row9_col6\" class=\"data row9 col6\" >0.6717</td>\n",
       "      <td id=\"T_818f7_row9_col7\" class=\"data row9 col7\" >0.6724</td>\n",
       "      <td id=\"T_818f7_row9_col8\" class=\"data row9 col8\" >0.0160</td>\n",
       "    </tr>\n",
       "    <tr>\n",
       "      <th id=\"T_818f7_level0_row10\" class=\"row_heading level0 row10\" >lda</th>\n",
       "      <td id=\"T_818f7_row10_col0\" class=\"data row10 col0\" >Linear Discriminant Analysis</td>\n",
       "      <td id=\"T_818f7_row10_col1\" class=\"data row10 col1\" >0.8358</td>\n",
       "      <td id=\"T_818f7_row10_col2\" class=\"data row10 col2\" >0.9208</td>\n",
       "      <td id=\"T_818f7_row10_col3\" class=\"data row10 col3\" >0.8320</td>\n",
       "      <td id=\"T_818f7_row10_col4\" class=\"data row10 col4\" >0.8417</td>\n",
       "      <td id=\"T_818f7_row10_col5\" class=\"data row10 col5\" >0.8364</td>\n",
       "      <td id=\"T_818f7_row10_col6\" class=\"data row10 col6\" >0.6717</td>\n",
       "      <td id=\"T_818f7_row10_col7\" class=\"data row10 col7\" >0.6724</td>\n",
       "      <td id=\"T_818f7_row10_col8\" class=\"data row10 col8\" >0.0280</td>\n",
       "    </tr>\n",
       "    <tr>\n",
       "      <th id=\"T_818f7_level0_row11\" class=\"row_heading level0 row11\" >svm</th>\n",
       "      <td id=\"T_818f7_row11_col0\" class=\"data row11 col0\" >SVM - Linear Kernel</td>\n",
       "      <td id=\"T_818f7_row11_col1\" class=\"data row11 col1\" >0.8224</td>\n",
       "      <td id=\"T_818f7_row11_col2\" class=\"data row11 col2\" >0.0000</td>\n",
       "      <td id=\"T_818f7_row11_col3\" class=\"data row11 col3\" >0.7702</td>\n",
       "      <td id=\"T_818f7_row11_col4\" class=\"data row11 col4\" >0.8729</td>\n",
       "      <td id=\"T_818f7_row11_col5\" class=\"data row11 col5\" >0.8139</td>\n",
       "      <td id=\"T_818f7_row11_col6\" class=\"data row11 col6\" >0.6453</td>\n",
       "      <td id=\"T_818f7_row11_col7\" class=\"data row11 col7\" >0.6552</td>\n",
       "      <td id=\"T_818f7_row11_col8\" class=\"data row11 col8\" >0.0130</td>\n",
       "    </tr>\n",
       "    <tr>\n",
       "      <th id=\"T_818f7_level0_row12\" class=\"row_heading level0 row12\" >dt</th>\n",
       "      <td id=\"T_818f7_row12_col0\" class=\"data row12 col0\" >Decision Tree Classifier</td>\n",
       "      <td id=\"T_818f7_row12_col1\" class=\"data row12 col1\" >0.8149</td>\n",
       "      <td id=\"T_818f7_row12_col2\" class=\"data row12 col2\" >0.8154</td>\n",
       "      <td id=\"T_818f7_row12_col3\" class=\"data row12 col3\" >0.7995</td>\n",
       "      <td id=\"T_818f7_row12_col4\" class=\"data row12 col4\" >0.8323</td>\n",
       "      <td id=\"T_818f7_row12_col5\" class=\"data row12 col5\" >0.8138</td>\n",
       "      <td id=\"T_818f7_row12_col6\" class=\"data row12 col6\" >0.6302</td>\n",
       "      <td id=\"T_818f7_row12_col7\" class=\"data row12 col7\" >0.6330</td>\n",
       "      <td id=\"T_818f7_row12_col8\" class=\"data row12 col8\" >0.0160</td>\n",
       "    </tr>\n",
       "    <tr>\n",
       "      <th id=\"T_818f7_level0_row13\" class=\"row_heading level0 row13\" >dummy</th>\n",
       "      <td id=\"T_818f7_row13_col0\" class=\"data row13 col0\" >Dummy Classifier</td>\n",
       "      <td id=\"T_818f7_row13_col1\" class=\"data row13 col1\" >0.5060</td>\n",
       "      <td id=\"T_818f7_row13_col2\" class=\"data row13 col2\" >0.5000</td>\n",
       "      <td id=\"T_818f7_row13_col3\" class=\"data row13 col3\" >1.0000</td>\n",
       "      <td id=\"T_818f7_row13_col4\" class=\"data row13 col4\" >0.5060</td>\n",
       "      <td id=\"T_818f7_row13_col5\" class=\"data row13 col5\" >0.6719</td>\n",
       "      <td id=\"T_818f7_row13_col6\" class=\"data row13 col6\" >0.0000</td>\n",
       "      <td id=\"T_818f7_row13_col7\" class=\"data row13 col7\" >0.0000</td>\n",
       "      <td id=\"T_818f7_row13_col8\" class=\"data row13 col8\" >0.0280</td>\n",
       "    </tr>\n",
       "  </tbody>\n",
       "</table>\n"
      ],
      "text/plain": [
       "<pandas.io.formats.style.Styler at 0x7fcd9d14e8f0>"
      ]
     },
     "metadata": {},
     "output_type": "display_data"
    },
    {
     "data": {
      "application/vnd.jupyter.widget-view+json": {
       "model_id": "ba27a7b374a84125906f61a20e64550d",
       "version_major": 2,
       "version_minor": 0
      },
      "text/plain": [
       "Processing:   0%|          | 0/61 [00:00<?, ?it/s]"
      ]
     },
     "metadata": {},
     "output_type": "display_data"
    }
   ],
   "source": [
    "best = compare_models()"
   ]
  },
  {
   "attachments": {},
   "cell_type": "markdown",
   "metadata": {},
   "source": [
    "Melhor score foi relativo ao modelo Gradient Boosting Classifier. Ele teve o melhor F1 score, ou seja, melhor desempenho considerando a média harmônica da precisão e recall"
   ]
  },
  {
   "cell_type": "code",
   "execution_count": 18,
   "metadata": {},
   "outputs": [
    {
     "data": {
      "text/html": [],
      "text/plain": [
       "<IPython.core.display.HTML object>"
      ]
     },
     "metadata": {},
     "output_type": "display_data"
    },
    {
     "data": {
      "text/html": [
       "<style type=\"text/css\">\n",
       "</style>\n",
       "<table id=\"T_5017c\">\n",
       "  <thead>\n",
       "    <tr>\n",
       "      <th class=\"blank level0\" >&nbsp;</th>\n",
       "      <th id=\"T_5017c_level0_col0\" class=\"col_heading level0 col0\" >Accuracy</th>\n",
       "      <th id=\"T_5017c_level0_col1\" class=\"col_heading level0 col1\" >AUC</th>\n",
       "      <th id=\"T_5017c_level0_col2\" class=\"col_heading level0 col2\" >Recall</th>\n",
       "      <th id=\"T_5017c_level0_col3\" class=\"col_heading level0 col3\" >Prec.</th>\n",
       "      <th id=\"T_5017c_level0_col4\" class=\"col_heading level0 col4\" >F1</th>\n",
       "      <th id=\"T_5017c_level0_col5\" class=\"col_heading level0 col5\" >Kappa</th>\n",
       "      <th id=\"T_5017c_level0_col6\" class=\"col_heading level0 col6\" >MCC</th>\n",
       "    </tr>\n",
       "  </thead>\n",
       "  <tbody>\n",
       "    <tr>\n",
       "      <th id=\"T_5017c_level0_row0\" class=\"row_heading level0 row0\" >Test</th>\n",
       "      <td id=\"T_5017c_row0_col0\" class=\"data row0 col0\" >0.8788</td>\n",
       "      <td id=\"T_5017c_row0_col1\" class=\"data row0 col1\" >0.9365</td>\n",
       "      <td id=\"T_5017c_row0_col2\" class=\"data row0 col2\" >0.8820</td>\n",
       "      <td id=\"T_5017c_row0_col3\" class=\"data row0 col3\" >0.8712</td>\n",
       "      <td id=\"T_5017c_row0_col4\" class=\"data row0 col4\" >0.8765</td>\n",
       "      <td id=\"T_5017c_row0_col5\" class=\"data row0 col5\" >0.7575</td>\n",
       "      <td id=\"T_5017c_row0_col6\" class=\"data row0 col6\" >0.7576</td>\n",
       "    </tr>\n",
       "  </tbody>\n",
       "</table>\n"
      ],
      "text/plain": [
       "<pandas.io.formats.style.Styler at 0x7fcd4c9c6f50>"
      ]
     },
     "metadata": {},
     "output_type": "display_data"
    },
    {
     "data": {
      "text/html": [],
      "text/plain": [
       "<IPython.core.display.HTML object>"
      ]
     },
     "metadata": {},
     "output_type": "display_data"
    }
   ],
   "source": [
    "classifier = create_model('gbc', cross_validation=False)"
   ]
  },
  {
   "cell_type": "code",
   "execution_count": 20,
   "metadata": {},
   "outputs": [
    {
     "data": {
      "text/html": [],
      "text/plain": [
       "<IPython.core.display.HTML object>"
      ]
     },
     "metadata": {},
     "output_type": "display_data"
    },
    {
     "data": {
      "image/png": "[encoded data removed]",
      "text/plain": [
       "<Figure size 800x550 with 1 Axes>"
      ]
     },
     "metadata": {},
     "output_type": "display_data"
    }
   ],
   "source": [
    "plot_model(classifier, plot = 'auc')"
   ]
  },
  {
   "cell_type": "code",
   "execution_count": 21,
   "metadata": {},
   "outputs": [
    {
     "data": {
      "text/html": [],
      "text/plain": [
       "<IPython.core.display.HTML object>"
      ]
     },
     "metadata": {},
     "output_type": "display_data"
    },
    {
     "data": {
      "image/png": "[encoded data removed]",
      "text/plain": [
       "<Figure size 800x550 with 1 Axes>"
      ]
     },
     "metadata": {},
     "output_type": "display_data"
    }
   ],
   "source": [
    "plot_model(classifier, plot = 'confusion_matrix')"
   ]
  },
  {
   "cell_type": "code",
   "execution_count": 22,
   "metadata": {},
   "outputs": [
    {
     "data": {
      "text/html": [],
      "text/plain": [
       "<IPython.core.display.HTML object>"
      ]
     },
     "metadata": {},
     "output_type": "display_data"
    },
    {
     "data": {
      "image/png": "[encoded data removed]",
      "text/plain": [
       "<Figure size 800x550 with 1 Axes>"
      ]
     },
     "metadata": {},
     "output_type": "display_data"
    }
   ],
   "source": [
    "plot_model(classifier, plot = 'threshold')"
   ]
  },
  {
   "attachments": {},
   "cell_type": "markdown",
   "metadata": {},
   "source": [
    "Threshold de discriminação entre as classes que maximiza o F1 score é 0.44"
   ]
  },
  {
   "cell_type": "code",
   "execution_count": 28,
   "metadata": {},
   "outputs": [
    {
     "name": "stdout",
     "output_type": "stream",
     "text": [
      "Transformation Pipeline and Model Successfully Saved\n"
     ]
    },
    {
     "data": {
      "text/plain": [
       "(Pipeline(memory=FastMemory(location=/tmp/joblib),\n",
       "          steps=[('numerical_imputer',\n",
       "                  TransformerWrapper(exclude=None, include=['x1', 'x2'],\n",
       "                                     transformer=SimpleImputer(add_indicator=False,\n",
       "                                                               copy=True,\n",
       "                                                               fill_value=None,\n",
       "                                                               keep_empty_features=False,\n",
       "                                                               missing_values=nan,\n",
       "                                                               strategy='mean',\n",
       "                                                               verbose='deprecated'))),\n",
       "                 ('categorical_imputer',\n",
       "                  TransformerWrapper(exclude=None, include=[...\n",
       "                                             criterion='friedman_mse', init=None,\n",
       "                                             learning_rate=0.1, loss='log_loss',\n",
       "                                             max_depth=3, max_features=None,\n",
       "                                             max_leaf_nodes=None,\n",
       "                                             min_impurity_decrease=0.0,\n",
       "                                             min_samples_leaf=1,\n",
       "                                             min_samples_split=2,\n",
       "                                             min_weight_fraction_leaf=0.0,\n",
       "                                             n_estimators=100,\n",
       "                                             n_iter_no_change=None,\n",
       "                                             random_state=123, subsample=1.0,\n",
       "                                             tol=0.0001, validation_fraction=0.1,\n",
       "                                             verbose=0, warm_start=False))],\n",
       "          verbose=False),\n",
       " 'Models/gbc_model.pkl')"
      ]
     },
     "execution_count": 28,
     "metadata": {},
     "output_type": "execute_result"
    }
   ],
   "source": [
    "# Salvando modelo\n",
    "save_model(classifier, 'Models/gbc_model')"
   ]
  },
  {
   "cell_type": "code",
   "execution_count": 4,
   "metadata": {},
   "outputs": [
    {
     "name": "stdout",
     "output_type": "stream",
     "text": [
      "Transformation Pipeline and Model Successfully Loaded\n"
     ]
    }
   ],
   "source": [
    "classifier = load_model('Models/gbc_model')"
   ]
  },
  {
   "attachments": {},
   "cell_type": "markdown",
   "metadata": {},
   "source": [
    "### Analisando importância das features"
   ]
  },
  {
   "attachments": {},
   "cell_type": "markdown",
   "metadata": {},
   "source": [
    "O PyCaret utiliza o algoritmo Random Forest para calcular a importância das features. \n",
    "\n",
    "A importância é calculada com base em duas métricas: Gini Importance e Mean Decrease Impurity (MDI)."
   ]
  },
  {
   "cell_type": "code",
   "execution_count": 9,
   "metadata": {},
   "outputs": [
    {
     "data": {
      "text/html": [],
      "text/plain": [
       "<IPython.core.display.HTML object>"
      ]
     },
     "metadata": {},
     "output_type": "display_data"
    },
    {
     "data": {
      "image/png": "[encoded data removed]",
      "text/plain": [
       "<Figure size 800x500 with 1 Axes>"
      ]
     },
     "metadata": {},
     "output_type": "display_data"
    }
   ],
   "source": [
    "plot_model(classifier, plot = 'feature')"
   ]
  },
  {
   "attachments": {},
   "cell_type": "markdown",
   "metadata": {},
   "source": [
    "A variável x2 tem maior importância na determinação da classe de acordo com os critérios de Gini importance e MDI"
   ]
  },
  {
   "attachments": {},
   "cell_type": "markdown",
   "metadata": {},
   "source": [
    "# Regressão"
   ]
  },
  {
   "cell_type": "code",
   "execution_count": 11,
   "metadata": {},
   "outputs": [],
   "source": [
    "reg_train = pd.read_csv('Data/regression_data/regression_train.csv')\n",
    "reg_test = pd.read_csv('Data/regression_data/regression_test.csv')"
   ]
  },
  {
   "cell_type": "code",
   "execution_count": 39,
   "metadata": {},
   "outputs": [],
   "source": [
    "from pycaret.regression import *\n",
    "from scipy.stats import pearsonr\n",
    "from sklearn.metrics import make_scorer"
   ]
  },
  {
   "cell_type": "code",
   "execution_count": 22,
   "metadata": {},
   "outputs": [
    {
     "name": "stdout",
     "output_type": "stream",
     "text": [
      "<class 'pandas.core.frame.DataFrame'>\n",
      "RangeIndex: 1042 entries, 0 to 1041\n",
      "Data columns (total 8 columns):\n",
      " #   Column  Non-Null Count  Dtype  \n",
      "---  ------  --------------  -----  \n",
      " 0   target  715 non-null    float64\n",
      " 1   X1      1042 non-null   float64\n",
      " 2   X2      1031 non-null   float64\n",
      " 3   X3      1042 non-null   float64\n",
      " 4   X4      1042 non-null   float64\n",
      " 5   X5      1042 non-null   float64\n",
      " 6   X6      1042 non-null   int64  \n",
      " 7   X7      1042 non-null   float64\n",
      "dtypes: float64(7), int64(1)\n",
      "memory usage: 65.2 KB\n"
     ]
    }
   ],
   "source": [
    "reg_train.info()"
   ]
  },
  {
   "cell_type": "code",
   "execution_count": 21,
   "metadata": {},
   "outputs": [
    {
     "name": "stdout",
     "output_type": "stream",
     "text": [
      "<class 'pandas.core.frame.DataFrame'>\n",
      "RangeIndex: 261 entries, 0 to 260\n",
      "Data columns (total 8 columns):\n",
      " #   Column  Non-Null Count  Dtype  \n",
      "---  ------  --------------  -----  \n",
      " 0   target  180 non-null    float64\n",
      " 1   X1      261 non-null    float64\n",
      " 2   X2      261 non-null    float64\n",
      " 3   X3      261 non-null    float64\n",
      " 4   X4      261 non-null    float64\n",
      " 5   X5      261 non-null    float64\n",
      " 6   X6      261 non-null    int64  \n",
      " 7   X7      261 non-null    float64\n",
      "dtypes: float64(7), int64(1)\n",
      "memory usage: 16.4 KB\n"
     ]
    }
   ],
   "source": [
    "reg_test.info()"
   ]
  },
  {
   "cell_type": "code",
   "execution_count": 27,
   "metadata": {},
   "outputs": [
    {
     "data": {
      "text/html": [
       "<div>\n",
       "<style scoped>\n",
       "    .dataframe tbody tr th:only-of-type {\n",
       "        vertical-align: middle;\n",
       "    }\n",
       "\n",
       "    .dataframe tbody tr th {\n",
       "        vertical-align: top;\n",
       "    }\n",
       "\n",
       "    .dataframe thead th {\n",
       "        text-align: right;\n",
       "    }\n",
       "</style>\n",
       "<table border=\"1\" class=\"dataframe\">\n",
       "  <thead>\n",
       "    <tr style=\"text-align: right;\">\n",
       "      <th></th>\n",
       "      <th>target</th>\n",
       "      <th>X1</th>\n",
       "      <th>X2</th>\n",
       "      <th>X3</th>\n",
       "      <th>X4</th>\n",
       "      <th>X5</th>\n",
       "      <th>X6</th>\n",
       "      <th>X7</th>\n",
       "    </tr>\n",
       "  </thead>\n",
       "  <tbody>\n",
       "    <tr>\n",
       "      <th>0</th>\n",
       "      <td>NaN</td>\n",
       "      <td>-0.546168</td>\n",
       "      <td>NaN</td>\n",
       "      <td>47.063305</td>\n",
       "      <td>1.611370</td>\n",
       "      <td>-65.882137</td>\n",
       "      <td>0</td>\n",
       "      <td>-16.672865</td>\n",
       "    </tr>\n",
       "    <tr>\n",
       "      <th>1</th>\n",
       "      <td>47.735389</td>\n",
       "      <td>3.074317</td>\n",
       "      <td>-2.836000</td>\n",
       "      <td>49.396649</td>\n",
       "      <td>0.261998</td>\n",
       "      <td>-66.570716</td>\n",
       "      <td>0</td>\n",
       "      <td>-6.664599</td>\n",
       "    </tr>\n",
       "    <tr>\n",
       "      <th>2</th>\n",
       "      <td>NaN</td>\n",
       "      <td>-1.485531</td>\n",
       "      <td>-13.102537</td>\n",
       "      <td>42.367991</td>\n",
       "      <td>3.991558</td>\n",
       "      <td>-67.108014</td>\n",
       "      <td>8</td>\n",
       "      <td>-30.790962</td>\n",
       "    </tr>\n",
       "    <tr>\n",
       "      <th>3</th>\n",
       "      <td>908.202209</td>\n",
       "      <td>6.907396</td>\n",
       "      <td>-0.308967</td>\n",
       "      <td>57.228787</td>\n",
       "      <td>0.256771</td>\n",
       "      <td>-66.181266</td>\n",
       "      <td>5</td>\n",
       "      <td>-0.726072</td>\n",
       "    </tr>\n",
       "    <tr>\n",
       "      <th>4</th>\n",
       "      <td>1640.461863</td>\n",
       "      <td>1.916788</td>\n",
       "      <td>3.460290</td>\n",
       "      <td>51.703375</td>\n",
       "      <td>2.463790</td>\n",
       "      <td>-65.143663</td>\n",
       "      <td>5</td>\n",
       "      <td>8.131680</td>\n",
       "    </tr>\n",
       "    <tr>\n",
       "      <th>...</th>\n",
       "      <td>...</td>\n",
       "      <td>...</td>\n",
       "      <td>...</td>\n",
       "      <td>...</td>\n",
       "      <td>...</td>\n",
       "      <td>...</td>\n",
       "      <td>...</td>\n",
       "      <td>...</td>\n",
       "    </tr>\n",
       "    <tr>\n",
       "      <th>1037</th>\n",
       "      <td>4296.426459</td>\n",
       "      <td>5.375810</td>\n",
       "      <td>6.937947</td>\n",
       "      <td>55.810467</td>\n",
       "      <td>1.698025</td>\n",
       "      <td>-65.819509</td>\n",
       "      <td>8</td>\n",
       "      <td>16.304176</td>\n",
       "    </tr>\n",
       "    <tr>\n",
       "      <th>1038</th>\n",
       "      <td>54.530919</td>\n",
       "      <td>0.619207</td>\n",
       "      <td>-1.925819</td>\n",
       "      <td>48.168606</td>\n",
       "      <td>1.357223</td>\n",
       "      <td>-65.385243</td>\n",
       "      <td>8</td>\n",
       "      <td>-4.525675</td>\n",
       "    </tr>\n",
       "    <tr>\n",
       "      <th>1039</th>\n",
       "      <td>1636.535078</td>\n",
       "      <td>4.548172</td>\n",
       "      <td>2.886253</td>\n",
       "      <td>47.775525</td>\n",
       "      <td>1.278439</td>\n",
       "      <td>-56.312543</td>\n",
       "      <td>8</td>\n",
       "      <td>6.782694</td>\n",
       "    </tr>\n",
       "    <tr>\n",
       "      <th>1040</th>\n",
       "      <td>NaN</td>\n",
       "      <td>1.806045</td>\n",
       "      <td>-3.015213</td>\n",
       "      <td>48.352707</td>\n",
       "      <td>4.627906</td>\n",
       "      <td>-57.722688</td>\n",
       "      <td>5</td>\n",
       "      <td>-7.085751</td>\n",
       "    </tr>\n",
       "    <tr>\n",
       "      <th>1041</th>\n",
       "      <td>2951.647675</td>\n",
       "      <td>6.002320</td>\n",
       "      <td>5.760220</td>\n",
       "      <td>41.926049</td>\n",
       "      <td>3.562797</td>\n",
       "      <td>-81.111346</td>\n",
       "      <td>8</td>\n",
       "      <td>13.536516</td>\n",
       "    </tr>\n",
       "  </tbody>\n",
       "</table>\n",
       "<p>1042 rows × 8 columns</p>\n",
       "</div>"
      ],
      "text/plain": [
       "           target        X1         X2         X3        X4         X5  X6  \\\n",
       "0             NaN -0.546168        NaN  47.063305  1.611370 -65.882137   0   \n",
       "1       47.735389  3.074317  -2.836000  49.396649  0.261998 -66.570716   0   \n",
       "2             NaN -1.485531 -13.102537  42.367991  3.991558 -67.108014   8   \n",
       "3      908.202209  6.907396  -0.308967  57.228787  0.256771 -66.181266   5   \n",
       "4     1640.461863  1.916788   3.460290  51.703375  2.463790 -65.143663   5   \n",
       "...           ...       ...        ...        ...       ...        ...  ..   \n",
       "1037  4296.426459  5.375810   6.937947  55.810467  1.698025 -65.819509   8   \n",
       "1038    54.530919  0.619207  -1.925819  48.168606  1.357223 -65.385243   8   \n",
       "1039  1636.535078  4.548172   2.886253  47.775525  1.278439 -56.312543   8   \n",
       "1040          NaN  1.806045  -3.015213  48.352707  4.627906 -57.722688   5   \n",
       "1041  2951.647675  6.002320   5.760220  41.926049  3.562797 -81.111346   8   \n",
       "\n",
       "             X7  \n",
       "0    -16.672865  \n",
       "1     -6.664599  \n",
       "2    -30.790962  \n",
       "3     -0.726072  \n",
       "4      8.131680  \n",
       "...         ...  \n",
       "1037  16.304176  \n",
       "1038  -4.525675  \n",
       "1039   6.782694  \n",
       "1040  -7.085751  \n",
       "1041  13.536516  \n",
       "\n",
       "[1042 rows x 8 columns]"
      ]
     },
     "execution_count": 27,
     "metadata": {},
     "output_type": "execute_result"
    }
   ],
   "source": [
    "reg_train"
   ]
  },
  {
   "cell_type": "code",
   "execution_count": 30,
   "metadata": {},
   "outputs": [],
   "source": [
    "reg_train.dropna(subset='target', inplace=True)\n",
    "reg_test.dropna(subset='target', inplace=True)"
   ]
  },
  {
   "attachments": {},
   "cell_type": "markdown",
   "metadata": {},
   "source": [
    "Muitos valores nulos na variável target. Irei removê-los e imputar valores baseados nos valores próximos (knn) nas features."
   ]
  },
  {
   "cell_type": "code",
   "execution_count": 31,
   "metadata": {},
   "outputs": [
    {
     "data": {
      "text/html": [
       "<style type=\"text/css\">\n",
       "#T_ec337_row8_col1 {\n",
       "  background-color: lightgreen;\n",
       "}\n",
       "</style>\n",
       "<table id=\"T_ec337\">\n",
       "  <thead>\n",
       "    <tr>\n",
       "      <th class=\"blank level0\" >&nbsp;</th>\n",
       "      <th id=\"T_ec337_level0_col0\" class=\"col_heading level0 col0\" >Description</th>\n",
       "      <th id=\"T_ec337_level0_col1\" class=\"col_heading level0 col1\" >Value</th>\n",
       "    </tr>\n",
       "  </thead>\n",
       "  <tbody>\n",
       "    <tr>\n",
       "      <th id=\"T_ec337_level0_row0\" class=\"row_heading level0 row0\" >0</th>\n",
       "      <td id=\"T_ec337_row0_col0\" class=\"data row0 col0\" >Session id</td>\n",
       "      <td id=\"T_ec337_row0_col1\" class=\"data row0 col1\" >123</td>\n",
       "    </tr>\n",
       "    <tr>\n",
       "      <th id=\"T_ec337_level0_row1\" class=\"row_heading level0 row1\" >1</th>\n",
       "      <td id=\"T_ec337_row1_col0\" class=\"data row1 col0\" >Target</td>\n",
       "      <td id=\"T_ec337_row1_col1\" class=\"data row1 col1\" >target</td>\n",
       "    </tr>\n",
       "    <tr>\n",
       "      <th id=\"T_ec337_level0_row2\" class=\"row_heading level0 row2\" >2</th>\n",
       "      <td id=\"T_ec337_row2_col0\" class=\"data row2 col0\" >Target type</td>\n",
       "      <td id=\"T_ec337_row2_col1\" class=\"data row2 col1\" >Regression</td>\n",
       "    </tr>\n",
       "    <tr>\n",
       "      <th id=\"T_ec337_level0_row3\" class=\"row_heading level0 row3\" >3</th>\n",
       "      <td id=\"T_ec337_row3_col0\" class=\"data row3 col0\" >Original data shape</td>\n",
       "      <td id=\"T_ec337_row3_col1\" class=\"data row3 col1\" >(895, 8)</td>\n",
       "    </tr>\n",
       "    <tr>\n",
       "      <th id=\"T_ec337_level0_row4\" class=\"row_heading level0 row4\" >4</th>\n",
       "      <td id=\"T_ec337_row4_col0\" class=\"data row4 col0\" >Transformed data shape</td>\n",
       "      <td id=\"T_ec337_row4_col1\" class=\"data row4 col1\" >(895, 8)</td>\n",
       "    </tr>\n",
       "    <tr>\n",
       "      <th id=\"T_ec337_level0_row5\" class=\"row_heading level0 row5\" >5</th>\n",
       "      <td id=\"T_ec337_row5_col0\" class=\"data row5 col0\" >Transformed train set shape</td>\n",
       "      <td id=\"T_ec337_row5_col1\" class=\"data row5 col1\" >(715, 8)</td>\n",
       "    </tr>\n",
       "    <tr>\n",
       "      <th id=\"T_ec337_level0_row6\" class=\"row_heading level0 row6\" >6</th>\n",
       "      <td id=\"T_ec337_row6_col0\" class=\"data row6 col0\" >Transformed test set shape</td>\n",
       "      <td id=\"T_ec337_row6_col1\" class=\"data row6 col1\" >(180, 8)</td>\n",
       "    </tr>\n",
       "    <tr>\n",
       "      <th id=\"T_ec337_level0_row7\" class=\"row_heading level0 row7\" >7</th>\n",
       "      <td id=\"T_ec337_row7_col0\" class=\"data row7 col0\" >Numeric features</td>\n",
       "      <td id=\"T_ec337_row7_col1\" class=\"data row7 col1\" >7</td>\n",
       "    </tr>\n",
       "    <tr>\n",
       "      <th id=\"T_ec337_level0_row8\" class=\"row_heading level0 row8\" >8</th>\n",
       "      <td id=\"T_ec337_row8_col0\" class=\"data row8 col0\" >Preprocess</td>\n",
       "      <td id=\"T_ec337_row8_col1\" class=\"data row8 col1\" >True</td>\n",
       "    </tr>\n",
       "    <tr>\n",
       "      <th id=\"T_ec337_level0_row9\" class=\"row_heading level0 row9\" >9</th>\n",
       "      <td id=\"T_ec337_row9_col0\" class=\"data row9 col0\" >Imputation type</td>\n",
       "      <td id=\"T_ec337_row9_col1\" class=\"data row9 col1\" >simple</td>\n",
       "    </tr>\n",
       "    <tr>\n",
       "      <th id=\"T_ec337_level0_row10\" class=\"row_heading level0 row10\" >10</th>\n",
       "      <td id=\"T_ec337_row10_col0\" class=\"data row10 col0\" >Numeric imputation</td>\n",
       "      <td id=\"T_ec337_row10_col1\" class=\"data row10 col1\" >knn</td>\n",
       "    </tr>\n",
       "    <tr>\n",
       "      <th id=\"T_ec337_level0_row11\" class=\"row_heading level0 row11\" >11</th>\n",
       "      <td id=\"T_ec337_row11_col0\" class=\"data row11 col0\" >Categorical imputation</td>\n",
       "      <td id=\"T_ec337_row11_col1\" class=\"data row11 col1\" >mode</td>\n",
       "    </tr>\n",
       "    <tr>\n",
       "      <th id=\"T_ec337_level0_row12\" class=\"row_heading level0 row12\" >12</th>\n",
       "      <td id=\"T_ec337_row12_col0\" class=\"data row12 col0\" >Fold Generator</td>\n",
       "      <td id=\"T_ec337_row12_col1\" class=\"data row12 col1\" >KFold</td>\n",
       "    </tr>\n",
       "    <tr>\n",
       "      <th id=\"T_ec337_level0_row13\" class=\"row_heading level0 row13\" >13</th>\n",
       "      <td id=\"T_ec337_row13_col0\" class=\"data row13 col0\" >Fold Number</td>\n",
       "      <td id=\"T_ec337_row13_col1\" class=\"data row13 col1\" >10</td>\n",
       "    </tr>\n",
       "    <tr>\n",
       "      <th id=\"T_ec337_level0_row14\" class=\"row_heading level0 row14\" >14</th>\n",
       "      <td id=\"T_ec337_row14_col0\" class=\"data row14 col0\" >CPU Jobs</td>\n",
       "      <td id=\"T_ec337_row14_col1\" class=\"data row14 col1\" >-1</td>\n",
       "    </tr>\n",
       "    <tr>\n",
       "      <th id=\"T_ec337_level0_row15\" class=\"row_heading level0 row15\" >15</th>\n",
       "      <td id=\"T_ec337_row15_col0\" class=\"data row15 col0\" >Use GPU</td>\n",
       "      <td id=\"T_ec337_row15_col1\" class=\"data row15 col1\" >False</td>\n",
       "    </tr>\n",
       "    <tr>\n",
       "      <th id=\"T_ec337_level0_row16\" class=\"row_heading level0 row16\" >16</th>\n",
       "      <td id=\"T_ec337_row16_col0\" class=\"data row16 col0\" >Log Experiment</td>\n",
       "      <td id=\"T_ec337_row16_col1\" class=\"data row16 col1\" >MlflowLogger</td>\n",
       "    </tr>\n",
       "    <tr>\n",
       "      <th id=\"T_ec337_level0_row17\" class=\"row_heading level0 row17\" >17</th>\n",
       "      <td id=\"T_ec337_row17_col0\" class=\"data row17 col0\" >Experiment Name</td>\n",
       "      <td id=\"T_ec337_row17_col1\" class=\"data row17 col1\" >regression</td>\n",
       "    </tr>\n",
       "    <tr>\n",
       "      <th id=\"T_ec337_level0_row18\" class=\"row_heading level0 row18\" >18</th>\n",
       "      <td id=\"T_ec337_row18_col0\" class=\"data row18 col0\" >USI</td>\n",
       "      <td id=\"T_ec337_row18_col1\" class=\"data row18 col1\" >4153</td>\n",
       "    </tr>\n",
       "  </tbody>\n",
       "</table>\n"
      ],
      "text/plain": [
       "<pandas.io.formats.style.Styler at 0x7f764be20b50>"
      ]
     },
     "metadata": {},
     "output_type": "display_data"
    },
    {
     "name": "stderr",
     "output_type": "stream",
     "text": [
      "2023/07/02 18:30:59 INFO mlflow.tracking.fluent: Experiment with name 'regression' does not exist. Creating a new experiment.\n"
     ]
    }
   ],
   "source": [
    "s = setup(reg_train, target = 'target', session_id = 123, log_experiment = False, experiment_name = 'regression', test_data=reg_test, index=False, numeric_imputation='knn')"
   ]
  },
  {
   "attachments": {},
   "cell_type": "markdown",
   "metadata": {},
   "source": [
    "Criando métrica de correlação entre y_pred e y_observado"
   ]
  },
  {
   "cell_type": "code",
   "execution_count": 36,
   "metadata": {},
   "outputs": [],
   "source": [
    "# Função para calcular a correlação\n",
    "def correlation_metric(y_true, y_pred):\n",
    "    corr, _ = pearsonr(y_true, y_pred)\n",
    "    return corr\n"
   ]
  },
  {
   "cell_type": "code",
   "execution_count": 32,
   "metadata": {},
   "outputs": [
    {
     "data": {
      "text/html": [],
      "text/plain": [
       "<IPython.core.display.HTML object>"
      ]
     },
     "metadata": {},
     "output_type": "display_data"
    },
    {
     "data": {
      "text/html": [
       "<style type=\"text/css\">\n",
       "#T_45c0f th {\n",
       "  text-align: left;\n",
       "}\n",
       "#T_45c0f_row0_col0, #T_45c0f_row0_col5, #T_45c0f_row0_col6, #T_45c0f_row1_col0, #T_45c0f_row1_col1, #T_45c0f_row1_col2, #T_45c0f_row1_col3, #T_45c0f_row1_col4, #T_45c0f_row1_col6, #T_45c0f_row2_col0, #T_45c0f_row2_col1, #T_45c0f_row2_col2, #T_45c0f_row2_col3, #T_45c0f_row2_col4, #T_45c0f_row2_col5, #T_45c0f_row2_col6, #T_45c0f_row3_col0, #T_45c0f_row3_col1, #T_45c0f_row3_col2, #T_45c0f_row3_col3, #T_45c0f_row3_col4, #T_45c0f_row3_col5, #T_45c0f_row3_col6, #T_45c0f_row4_col0, #T_45c0f_row4_col1, #T_45c0f_row4_col2, #T_45c0f_row4_col3, #T_45c0f_row4_col4, #T_45c0f_row4_col5, #T_45c0f_row5_col0, #T_45c0f_row5_col1, #T_45c0f_row5_col2, #T_45c0f_row5_col3, #T_45c0f_row5_col4, #T_45c0f_row5_col5, #T_45c0f_row5_col6, #T_45c0f_row6_col0, #T_45c0f_row6_col1, #T_45c0f_row6_col2, #T_45c0f_row6_col3, #T_45c0f_row6_col4, #T_45c0f_row6_col5, #T_45c0f_row6_col6, #T_45c0f_row7_col0, #T_45c0f_row7_col1, #T_45c0f_row7_col2, #T_45c0f_row7_col3, #T_45c0f_row7_col4, #T_45c0f_row7_col5, #T_45c0f_row7_col6, #T_45c0f_row8_col0, #T_45c0f_row8_col1, #T_45c0f_row8_col2, #T_45c0f_row8_col3, #T_45c0f_row8_col4, #T_45c0f_row8_col5, #T_45c0f_row8_col6, #T_45c0f_row9_col0, #T_45c0f_row9_col1, #T_45c0f_row9_col2, #T_45c0f_row9_col3, #T_45c0f_row9_col4, #T_45c0f_row9_col5, #T_45c0f_row9_col6, #T_45c0f_row10_col0, #T_45c0f_row10_col1, #T_45c0f_row10_col2, #T_45c0f_row10_col3, #T_45c0f_row10_col4, #T_45c0f_row10_col5, #T_45c0f_row10_col6, #T_45c0f_row11_col0, #T_45c0f_row11_col1, #T_45c0f_row11_col2, #T_45c0f_row11_col3, #T_45c0f_row11_col4, #T_45c0f_row11_col5, #T_45c0f_row11_col6, #T_45c0f_row12_col0, #T_45c0f_row12_col1, #T_45c0f_row12_col2, #T_45c0f_row12_col3, #T_45c0f_row12_col4, #T_45c0f_row12_col5, #T_45c0f_row12_col6, #T_45c0f_row13_col0, #T_45c0f_row13_col1, #T_45c0f_row13_col2, #T_45c0f_row13_col3, #T_45c0f_row13_col4, #T_45c0f_row13_col5, #T_45c0f_row13_col6, #T_45c0f_row14_col0, #T_45c0f_row14_col1, #T_45c0f_row14_col2, #T_45c0f_row14_col3, #T_45c0f_row14_col4, #T_45c0f_row14_col5, #T_45c0f_row14_col6, #T_45c0f_row15_col0, #T_45c0f_row15_col1, #T_45c0f_row15_col2, #T_45c0f_row15_col3, #T_45c0f_row15_col4, #T_45c0f_row15_col5, #T_45c0f_row15_col6, #T_45c0f_row16_col0, #T_45c0f_row16_col1, #T_45c0f_row16_col2, #T_45c0f_row16_col3, #T_45c0f_row16_col4, #T_45c0f_row16_col5, #T_45c0f_row16_col6, #T_45c0f_row17_col0, #T_45c0f_row17_col1, #T_45c0f_row17_col2, #T_45c0f_row17_col3, #T_45c0f_row17_col4, #T_45c0f_row17_col5, #T_45c0f_row17_col6 {\n",
       "  text-align: left;\n",
       "}\n",
       "#T_45c0f_row0_col1, #T_45c0f_row0_col2, #T_45c0f_row0_col3, #T_45c0f_row0_col4, #T_45c0f_row1_col5, #T_45c0f_row4_col6 {\n",
       "  text-align: left;\n",
       "  background-color: yellow;\n",
       "}\n",
       "#T_45c0f_row0_col7, #T_45c0f_row1_col7, #T_45c0f_row2_col7, #T_45c0f_row3_col7, #T_45c0f_row5_col7, #T_45c0f_row6_col7, #T_45c0f_row8_col7, #T_45c0f_row9_col7, #T_45c0f_row10_col7, #T_45c0f_row11_col7, #T_45c0f_row12_col7, #T_45c0f_row13_col7, #T_45c0f_row14_col7, #T_45c0f_row15_col7, #T_45c0f_row16_col7, #T_45c0f_row17_col7 {\n",
       "  text-align: left;\n",
       "  background-color: lightgrey;\n",
       "}\n",
       "#T_45c0f_row4_col7, #T_45c0f_row7_col7 {\n",
       "  text-align: left;\n",
       "  background-color: yellow;\n",
       "  background-color: lightgrey;\n",
       "}\n",
       "</style>\n",
       "<table id=\"T_45c0f\">\n",
       "  <thead>\n",
       "    <tr>\n",
       "      <th class=\"blank level0\" >&nbsp;</th>\n",
       "      <th id=\"T_45c0f_level0_col0\" class=\"col_heading level0 col0\" >Model</th>\n",
       "      <th id=\"T_45c0f_level0_col1\" class=\"col_heading level0 col1\" >MAE</th>\n",
       "      <th id=\"T_45c0f_level0_col2\" class=\"col_heading level0 col2\" >MSE</th>\n",
       "      <th id=\"T_45c0f_level0_col3\" class=\"col_heading level0 col3\" >RMSE</th>\n",
       "      <th id=\"T_45c0f_level0_col4\" class=\"col_heading level0 col4\" >R2</th>\n",
       "      <th id=\"T_45c0f_level0_col5\" class=\"col_heading level0 col5\" >RMSLE</th>\n",
       "      <th id=\"T_45c0f_level0_col6\" class=\"col_heading level0 col6\" >MAPE</th>\n",
       "      <th id=\"T_45c0f_level0_col7\" class=\"col_heading level0 col7\" >TT (Sec)</th>\n",
       "    </tr>\n",
       "  </thead>\n",
       "  <tbody>\n",
       "    <tr>\n",
       "      <th id=\"T_45c0f_level0_row0\" class=\"row_heading level0 row0\" >gbr</th>\n",
       "      <td id=\"T_45c0f_row0_col0\" class=\"data row0 col0\" >Gradient Boosting Regressor</td>\n",
       "      <td id=\"T_45c0f_row0_col1\" class=\"data row0 col1\" >74.3133</td>\n",
       "      <td id=\"T_45c0f_row0_col2\" class=\"data row0 col2\" >20724.6584</td>\n",
       "      <td id=\"T_45c0f_row0_col3\" class=\"data row0 col3\" >134.7313</td>\n",
       "      <td id=\"T_45c0f_row0_col4\" class=\"data row0 col4\" >0.9922</td>\n",
       "      <td id=\"T_45c0f_row0_col5\" class=\"data row0 col5\" >0.3791</td>\n",
       "      <td id=\"T_45c0f_row0_col6\" class=\"data row0 col6\" >1.2869</td>\n",
       "      <td id=\"T_45c0f_row0_col7\" class=\"data row0 col7\" >0.0460</td>\n",
       "    </tr>\n",
       "    <tr>\n",
       "      <th id=\"T_45c0f_level0_row1\" class=\"row_heading level0 row1\" >et</th>\n",
       "      <td id=\"T_45c0f_row1_col0\" class=\"data row1 col0\" >Extra Trees Regressor</td>\n",
       "      <td id=\"T_45c0f_row1_col1\" class=\"data row1 col1\" >89.4913</td>\n",
       "      <td id=\"T_45c0f_row1_col2\" class=\"data row1 col2\" >30065.1912</td>\n",
       "      <td id=\"T_45c0f_row1_col3\" class=\"data row1 col3\" >165.2742</td>\n",
       "      <td id=\"T_45c0f_row1_col4\" class=\"data row1 col4\" >0.9887</td>\n",
       "      <td id=\"T_45c0f_row1_col5\" class=\"data row1 col5\" >0.3561</td>\n",
       "      <td id=\"T_45c0f_row1_col6\" class=\"data row1 col6\" >0.9648</td>\n",
       "      <td id=\"T_45c0f_row1_col7\" class=\"data row1 col7\" >0.1790</td>\n",
       "    </tr>\n",
       "    <tr>\n",
       "      <th id=\"T_45c0f_level0_row2\" class=\"row_heading level0 row2\" >rf</th>\n",
       "      <td id=\"T_45c0f_row2_col0\" class=\"data row2 col0\" >Random Forest Regressor</td>\n",
       "      <td id=\"T_45c0f_row2_col1\" class=\"data row2 col1\" >103.4761</td>\n",
       "      <td id=\"T_45c0f_row2_col2\" class=\"data row2 col2\" >38229.9481</td>\n",
       "      <td id=\"T_45c0f_row2_col3\" class=\"data row2 col3\" >185.0203</td>\n",
       "      <td id=\"T_45c0f_row2_col4\" class=\"data row2 col4\" >0.9856</td>\n",
       "      <td id=\"T_45c0f_row2_col5\" class=\"data row2 col5\" >0.4119</td>\n",
       "      <td id=\"T_45c0f_row2_col6\" class=\"data row2 col6\" >1.5293</td>\n",
       "      <td id=\"T_45c0f_row2_col7\" class=\"data row2 col7\" >0.1290</td>\n",
       "    </tr>\n",
       "    <tr>\n",
       "      <th id=\"T_45c0f_level0_row3\" class=\"row_heading level0 row3\" >lightgbm</th>\n",
       "      <td id=\"T_45c0f_row3_col0\" class=\"data row3 col0\" >Light Gradient Boosting Machine</td>\n",
       "      <td id=\"T_45c0f_row3_col1\" class=\"data row3 col1\" >97.1748</td>\n",
       "      <td id=\"T_45c0f_row3_col2\" class=\"data row3 col2\" >69991.4174</td>\n",
       "      <td id=\"T_45c0f_row3_col3\" class=\"data row3 col3\" >237.4619</td>\n",
       "      <td id=\"T_45c0f_row3_col4\" class=\"data row3 col4\" >0.9753</td>\n",
       "      <td id=\"T_45c0f_row3_col5\" class=\"data row3 col5\" >0.3692</td>\n",
       "      <td id=\"T_45c0f_row3_col6\" class=\"data row3 col6\" >1.1357</td>\n",
       "      <td id=\"T_45c0f_row3_col7\" class=\"data row3 col7\" >0.0520</td>\n",
       "    </tr>\n",
       "    <tr>\n",
       "      <th id=\"T_45c0f_level0_row4\" class=\"row_heading level0 row4\" >dt</th>\n",
       "      <td id=\"T_45c0f_row4_col0\" class=\"data row4 col0\" >Decision Tree Regressor</td>\n",
       "      <td id=\"T_45c0f_row4_col1\" class=\"data row4 col1\" >160.3798</td>\n",
       "      <td id=\"T_45c0f_row4_col2\" class=\"data row4 col2\" >69152.1518</td>\n",
       "      <td id=\"T_45c0f_row4_col3\" class=\"data row4 col3\" >259.5059</td>\n",
       "      <td id=\"T_45c0f_row4_col4\" class=\"data row4 col4\" >0.9723</td>\n",
       "      <td id=\"T_45c0f_row4_col5\" class=\"data row4 col5\" >0.4723</td>\n",
       "      <td id=\"T_45c0f_row4_col6\" class=\"data row4 col6\" >0.8438</td>\n",
       "      <td id=\"T_45c0f_row4_col7\" class=\"data row4 col7\" >0.0120</td>\n",
       "    </tr>\n",
       "    <tr>\n",
       "      <th id=\"T_45c0f_level0_row5\" class=\"row_heading level0 row5\" >knn</th>\n",
       "      <td id=\"T_45c0f_row5_col0\" class=\"data row5 col0\" >K Neighbors Regressor</td>\n",
       "      <td id=\"T_45c0f_row5_col1\" class=\"data row5 col1\" >168.9647</td>\n",
       "      <td id=\"T_45c0f_row5_col2\" class=\"data row5 col2\" >89969.5969</td>\n",
       "      <td id=\"T_45c0f_row5_col3\" class=\"data row5 col3\" >291.6842</td>\n",
       "      <td id=\"T_45c0f_row5_col4\" class=\"data row5 col4\" >0.9654</td>\n",
       "      <td id=\"T_45c0f_row5_col5\" class=\"data row5 col5\" >0.6567</td>\n",
       "      <td id=\"T_45c0f_row5_col6\" class=\"data row5 col6\" >3.3104</td>\n",
       "      <td id=\"T_45c0f_row5_col7\" class=\"data row5 col7\" >0.0160</td>\n",
       "    </tr>\n",
       "    <tr>\n",
       "      <th id=\"T_45c0f_level0_row6\" class=\"row_heading level0 row6\" >ada</th>\n",
       "      <td id=\"T_45c0f_row6_col0\" class=\"data row6 col0\" >AdaBoost Regressor</td>\n",
       "      <td id=\"T_45c0f_row6_col1\" class=\"data row6 col1\" >259.1187</td>\n",
       "      <td id=\"T_45c0f_row6_col2\" class=\"data row6 col2\" >112444.7765</td>\n",
       "      <td id=\"T_45c0f_row6_col3\" class=\"data row6 col3\" >332.3563</td>\n",
       "      <td id=\"T_45c0f_row6_col4\" class=\"data row6 col4\" >0.9541</td>\n",
       "      <td id=\"T_45c0f_row6_col5\" class=\"data row6 col5\" >1.2143</td>\n",
       "      <td id=\"T_45c0f_row6_col6\" class=\"data row6 col6\" >19.3259</td>\n",
       "      <td id=\"T_45c0f_row6_col7\" class=\"data row6 col7\" >0.0560</td>\n",
       "    </tr>\n",
       "    <tr>\n",
       "      <th id=\"T_45c0f_level0_row7\" class=\"row_heading level0 row7\" >en</th>\n",
       "      <td id=\"T_45c0f_row7_col0\" class=\"data row7 col0\" >Elastic Net</td>\n",
       "      <td id=\"T_45c0f_row7_col1\" class=\"data row7 col1\" >343.1219</td>\n",
       "      <td id=\"T_45c0f_row7_col2\" class=\"data row7 col2\" >217526.5031</td>\n",
       "      <td id=\"T_45c0f_row7_col3\" class=\"data row7 col3\" >461.2551</td>\n",
       "      <td id=\"T_45c0f_row7_col4\" class=\"data row7 col4\" >0.9135</td>\n",
       "      <td id=\"T_45c0f_row7_col5\" class=\"data row7 col5\" >1.3692</td>\n",
       "      <td id=\"T_45c0f_row7_col6\" class=\"data row7 col6\" >36.0732</td>\n",
       "      <td id=\"T_45c0f_row7_col7\" class=\"data row7 col7\" >0.0120</td>\n",
       "    </tr>\n",
       "    <tr>\n",
       "      <th id=\"T_45c0f_level0_row8\" class=\"row_heading level0 row8\" >llar</th>\n",
       "      <td id=\"T_45c0f_row8_col0\" class=\"data row8 col0\" >Lasso Least Angle Regression</td>\n",
       "      <td id=\"T_45c0f_row8_col1\" class=\"data row8 col1\" >346.7476</td>\n",
       "      <td id=\"T_45c0f_row8_col2\" class=\"data row8 col2\" >217297.5516</td>\n",
       "      <td id=\"T_45c0f_row8_col3\" class=\"data row8 col3\" >461.3348</td>\n",
       "      <td id=\"T_45c0f_row8_col4\" class=\"data row8 col4\" >0.9134</td>\n",
       "      <td id=\"T_45c0f_row8_col5\" class=\"data row8 col5\" >1.3680</td>\n",
       "      <td id=\"T_45c0f_row8_col6\" class=\"data row8 col6\" >36.6081</td>\n",
       "      <td id=\"T_45c0f_row8_col7\" class=\"data row8 col7\" >0.0170</td>\n",
       "    </tr>\n",
       "    <tr>\n",
       "      <th id=\"T_45c0f_level0_row9\" class=\"row_heading level0 row9\" >br</th>\n",
       "      <td id=\"T_45c0f_row9_col0\" class=\"data row9 col0\" >Bayesian Ridge</td>\n",
       "      <td id=\"T_45c0f_row9_col1\" class=\"data row9 col1\" >346.4590</td>\n",
       "      <td id=\"T_45c0f_row9_col2\" class=\"data row9 col2\" >217302.6922</td>\n",
       "      <td id=\"T_45c0f_row9_col3\" class=\"data row9 col3\" >461.3128</td>\n",
       "      <td id=\"T_45c0f_row9_col4\" class=\"data row9 col4\" >0.9134</td>\n",
       "      <td id=\"T_45c0f_row9_col5\" class=\"data row9 col5\" >1.3666</td>\n",
       "      <td id=\"T_45c0f_row9_col6\" class=\"data row9 col6\" >36.5788</td>\n",
       "      <td id=\"T_45c0f_row9_col7\" class=\"data row9 col7\" >0.0140</td>\n",
       "    </tr>\n",
       "    <tr>\n",
       "      <th id=\"T_45c0f_level0_row10\" class=\"row_heading level0 row10\" >lasso</th>\n",
       "      <td id=\"T_45c0f_row10_col0\" class=\"data row10 col0\" >Lasso Regression</td>\n",
       "      <td id=\"T_45c0f_row10_col1\" class=\"data row10 col1\" >346.7470</td>\n",
       "      <td id=\"T_45c0f_row10_col2\" class=\"data row10 col2\" >217297.2594</td>\n",
       "      <td id=\"T_45c0f_row10_col3\" class=\"data row10 col3\" >461.3344</td>\n",
       "      <td id=\"T_45c0f_row10_col4\" class=\"data row10 col4\" >0.9134</td>\n",
       "      <td id=\"T_45c0f_row10_col5\" class=\"data row10 col5\" >1.3680</td>\n",
       "      <td id=\"T_45c0f_row10_col6\" class=\"data row10 col6\" >36.6083</td>\n",
       "      <td id=\"T_45c0f_row10_col7\" class=\"data row10 col7\" >0.5640</td>\n",
       "    </tr>\n",
       "    <tr>\n",
       "      <th id=\"T_45c0f_level0_row11\" class=\"row_heading level0 row11\" >lr</th>\n",
       "      <td id=\"T_45c0f_row11_col0\" class=\"data row11 col0\" >Linear Regression</td>\n",
       "      <td id=\"T_45c0f_row11_col1\" class=\"data row11 col1\" >346.8343</td>\n",
       "      <td id=\"T_45c0f_row11_col2\" class=\"data row11 col2\" >217323.9484</td>\n",
       "      <td id=\"T_45c0f_row11_col3\" class=\"data row11 col3\" >461.3656</td>\n",
       "      <td id=\"T_45c0f_row11_col4\" class=\"data row11 col4\" >0.9133</td>\n",
       "      <td id=\"T_45c0f_row11_col5\" class=\"data row11 col5\" >1.3676</td>\n",
       "      <td id=\"T_45c0f_row11_col6\" class=\"data row11 col6\" >36.6284</td>\n",
       "      <td id=\"T_45c0f_row11_col7\" class=\"data row11 col7\" >1.1350</td>\n",
       "    </tr>\n",
       "    <tr>\n",
       "      <th id=\"T_45c0f_level0_row12\" class=\"row_heading level0 row12\" >ridge</th>\n",
       "      <td id=\"T_45c0f_row12_col0\" class=\"data row12 col0\" >Ridge Regression</td>\n",
       "      <td id=\"T_45c0f_row12_col1\" class=\"data row12 col1\" >346.8216</td>\n",
       "      <td id=\"T_45c0f_row12_col2\" class=\"data row12 col2\" >217323.0906</td>\n",
       "      <td id=\"T_45c0f_row12_col3\" class=\"data row12 col3\" >461.3636</td>\n",
       "      <td id=\"T_45c0f_row12_col4\" class=\"data row12 col4\" >0.9133</td>\n",
       "      <td id=\"T_45c0f_row12_col5\" class=\"data row12 col5\" >1.3675</td>\n",
       "      <td id=\"T_45c0f_row12_col6\" class=\"data row12 col6\" >36.6268</td>\n",
       "      <td id=\"T_45c0f_row12_col7\" class=\"data row12 col7\" >0.0130</td>\n",
       "    </tr>\n",
       "    <tr>\n",
       "      <th id=\"T_45c0f_level0_row13\" class=\"row_heading level0 row13\" >lar</th>\n",
       "      <td id=\"T_45c0f_row13_col0\" class=\"data row13 col0\" >Least Angle Regression</td>\n",
       "      <td id=\"T_45c0f_row13_col1\" class=\"data row13 col1\" >346.8343</td>\n",
       "      <td id=\"T_45c0f_row13_col2\" class=\"data row13 col2\" >217323.9562</td>\n",
       "      <td id=\"T_45c0f_row13_col3\" class=\"data row13 col3\" >461.3656</td>\n",
       "      <td id=\"T_45c0f_row13_col4\" class=\"data row13 col4\" >0.9133</td>\n",
       "      <td id=\"T_45c0f_row13_col5\" class=\"data row13 col5\" >1.3676</td>\n",
       "      <td id=\"T_45c0f_row13_col6\" class=\"data row13 col6\" >36.6284</td>\n",
       "      <td id=\"T_45c0f_row13_col7\" class=\"data row13 col7\" >0.0150</td>\n",
       "    </tr>\n",
       "    <tr>\n",
       "      <th id=\"T_45c0f_level0_row14\" class=\"row_heading level0 row14\" >huber</th>\n",
       "      <td id=\"T_45c0f_row14_col0\" class=\"data row14 col0\" >Huber Regressor</td>\n",
       "      <td id=\"T_45c0f_row14_col1\" class=\"data row14 col1\" >300.0374</td>\n",
       "      <td id=\"T_45c0f_row14_col2\" class=\"data row14 col2\" >267535.7612</td>\n",
       "      <td id=\"T_45c0f_row14_col3\" class=\"data row14 col3\" >506.6841</td>\n",
       "      <td id=\"T_45c0f_row14_col4\" class=\"data row14 col4\" >0.8977</td>\n",
       "      <td id=\"T_45c0f_row14_col5\" class=\"data row14 col5\" >1.2701</td>\n",
       "      <td id=\"T_45c0f_row14_col6\" class=\"data row14 col6\" >28.9118</td>\n",
       "      <td id=\"T_45c0f_row14_col7\" class=\"data row14 col7\" >0.0160</td>\n",
       "    </tr>\n",
       "    <tr>\n",
       "      <th id=\"T_45c0f_level0_row15\" class=\"row_heading level0 row15\" >omp</th>\n",
       "      <td id=\"T_45c0f_row15_col0\" class=\"data row15 col0\" >Orthogonal Matching Pursuit</td>\n",
       "      <td id=\"T_45c0f_row15_col1\" class=\"data row15 col1\" >402.9284</td>\n",
       "      <td id=\"T_45c0f_row15_col2\" class=\"data row15 col2\" >305542.5781</td>\n",
       "      <td id=\"T_45c0f_row15_col3\" class=\"data row15 col3\" >547.6985</td>\n",
       "      <td id=\"T_45c0f_row15_col4\" class=\"data row15 col4\" >0.8769</td>\n",
       "      <td id=\"T_45c0f_row15_col5\" class=\"data row15 col5\" >1.3185</td>\n",
       "      <td id=\"T_45c0f_row15_col6\" class=\"data row15 col6\" >37.6211</td>\n",
       "      <td id=\"T_45c0f_row15_col7\" class=\"data row15 col7\" >0.0150</td>\n",
       "    </tr>\n",
       "    <tr>\n",
       "      <th id=\"T_45c0f_level0_row16\" class=\"row_heading level0 row16\" >par</th>\n",
       "      <td id=\"T_45c0f_row16_col0\" class=\"data row16 col0\" >Passive Aggressive Regressor</td>\n",
       "      <td id=\"T_45c0f_row16_col1\" class=\"data row16 col1\" >539.4363</td>\n",
       "      <td id=\"T_45c0f_row16_col2\" class=\"data row16 col2\" >472739.5296</td>\n",
       "      <td id=\"T_45c0f_row16_col3\" class=\"data row16 col3\" >662.7750</td>\n",
       "      <td id=\"T_45c0f_row16_col4\" class=\"data row16 col4\" >0.8028</td>\n",
       "      <td id=\"T_45c0f_row16_col5\" class=\"data row16 col5\" >1.3221</td>\n",
       "      <td id=\"T_45c0f_row16_col6\" class=\"data row16 col6\" >16.1290</td>\n",
       "      <td id=\"T_45c0f_row16_col7\" class=\"data row16 col7\" >0.0130</td>\n",
       "    </tr>\n",
       "    <tr>\n",
       "      <th id=\"T_45c0f_level0_row17\" class=\"row_heading level0 row17\" >dummy</th>\n",
       "      <td id=\"T_45c0f_row17_col0\" class=\"data row17 col0\" >Dummy Regressor</td>\n",
       "      <td id=\"T_45c0f_row17_col1\" class=\"data row17 col1\" >1143.8423</td>\n",
       "      <td id=\"T_45c0f_row17_col2\" class=\"data row17 col2\" >2537451.5125</td>\n",
       "      <td id=\"T_45c0f_row17_col3\" class=\"data row17 col3\" >1581.9095</td>\n",
       "      <td id=\"T_45c0f_row17_col4\" class=\"data row17 col4\" >-0.0086</td>\n",
       "      <td id=\"T_45c0f_row17_col5\" class=\"data row17 col5\" >1.8831</td>\n",
       "      <td id=\"T_45c0f_row17_col6\" class=\"data row17 col6\" >59.8650</td>\n",
       "      <td id=\"T_45c0f_row17_col7\" class=\"data row17 col7\" >0.0420</td>\n",
       "    </tr>\n",
       "  </tbody>\n",
       "</table>\n"
      ],
      "text/plain": [
       "<pandas.io.formats.style.Styler at 0x7f764d20a260>"
      ]
     },
     "metadata": {},
     "output_type": "display_data"
    },
    {
     "data": {
      "text/html": [],
      "text/plain": [
       "<IPython.core.display.HTML object>"
      ]
     },
     "metadata": {},
     "output_type": "display_data"
    }
   ],
   "source": [
    "best_reg = compare_models()"
   ]
  },
  {
   "attachments": {},
   "cell_type": "markdown",
   "metadata": {},
   "source": [
    "Melhor modelo de acordo com critérios de Mean Squared Error, Root mean squared error e R2 é o Gradient Boosting Regressor."
   ]
  },
  {
   "cell_type": "code",
   "execution_count": 45,
   "metadata": {},
   "outputs": [
    {
     "data": {
      "text/plain": [
       "Name                                                     Correlation\n",
       "Display Name                                             Correlation\n",
       "Score Function       <function correlation_metric at 0x7f764c0ca3b0>\n",
       "Scorer                               make_scorer(correlation_metric)\n",
       "Target                                                          pred\n",
       "Args                                                              {}\n",
       "Greater is Better                                               True\n",
       "Custom                                                          True\n",
       "Name: corr, dtype: object"
      ]
     },
     "execution_count": 45,
     "metadata": {},
     "output_type": "execute_result"
    }
   ],
   "source": [
    "scorer = make_scorer(correlation_metric, greater_is_better=True)\n",
    "add_metric(id=\"corr\", name=\"Correlation\", score_func=correlation_metric)\n"
   ]
  },
  {
   "cell_type": "code",
   "execution_count": 49,
   "metadata": {},
   "outputs": [
    {
     "data": {
      "text/html": [
       "<div>\n",
       "<style scoped>\n",
       "    .dataframe tbody tr th:only-of-type {\n",
       "        vertical-align: middle;\n",
       "    }\n",
       "\n",
       "    .dataframe tbody tr th {\n",
       "        vertical-align: top;\n",
       "    }\n",
       "\n",
       "    .dataframe thead th {\n",
       "        text-align: right;\n",
       "    }\n",
       "</style>\n",
       "<table border=\"1\" class=\"dataframe\">\n",
       "  <thead>\n",
       "    <tr style=\"text-align: right;\">\n",
       "      <th></th>\n",
       "      <th></th>\n",
       "      <th></th>\n",
       "    </tr>\n",
       "    <tr>\n",
       "      <th></th>\n",
       "      <th></th>\n",
       "      <th></th>\n",
       "    </tr>\n",
       "  </thead>\n",
       "  <tbody>\n",
       "    <tr>\n",
       "      <th>Initiated</th>\n",
       "      <td>. . . . . . . . . . . . . . . . . .</td>\n",
       "      <td>18:50:10</td>\n",
       "    </tr>\n",
       "    <tr>\n",
       "      <th>Status</th>\n",
       "      <td>. . . . . . . . . . . . . . . . . .</td>\n",
       "      <td>Loading Dependencies</td>\n",
       "    </tr>\n",
       "    <tr>\n",
       "      <th>Estimator</th>\n",
       "      <td>. . . . . . . . . . . . . . . . . .</td>\n",
       "      <td>Gradient Boosting Regressor</td>\n",
       "    </tr>\n",
       "  </tbody>\n",
       "</table>\n",
       "</div>"
      ],
      "text/plain": [
       "                                                                           \n",
       "                                                                           \n",
       "Initiated  . . . . . . . . . . . . . . . . . .                     18:50:10\n",
       "Status     . . . . . . . . . . . . . . . . . .         Loading Dependencies\n",
       "Estimator  . . . . . . . . . . . . . . . . . .  Gradient Boosting Regressor"
      ]
     },
     "metadata": {},
     "output_type": "display_data"
    },
    {
     "data": {
      "text/html": [
       "<style type=\"text/css\">\n",
       "#T_06800_row10_col0, #T_06800_row10_col1, #T_06800_row10_col2, #T_06800_row10_col3, #T_06800_row10_col4, #T_06800_row10_col5, #T_06800_row10_col6 {\n",
       "  background: yellow;\n",
       "}\n",
       "</style>\n",
       "<table id=\"T_06800\">\n",
       "  <thead>\n",
       "    <tr>\n",
       "      <th class=\"blank level0\" >&nbsp;</th>\n",
       "      <th id=\"T_06800_level0_col0\" class=\"col_heading level0 col0\" >MAE</th>\n",
       "      <th id=\"T_06800_level0_col1\" class=\"col_heading level0 col1\" >MSE</th>\n",
       "      <th id=\"T_06800_level0_col2\" class=\"col_heading level0 col2\" >RMSE</th>\n",
       "      <th id=\"T_06800_level0_col3\" class=\"col_heading level0 col3\" >R2</th>\n",
       "      <th id=\"T_06800_level0_col4\" class=\"col_heading level0 col4\" >RMSLE</th>\n",
       "      <th id=\"T_06800_level0_col5\" class=\"col_heading level0 col5\" >MAPE</th>\n",
       "      <th id=\"T_06800_level0_col6\" class=\"col_heading level0 col6\" >Correlation</th>\n",
       "    </tr>\n",
       "    <tr>\n",
       "      <th class=\"index_name level0\" >Fold</th>\n",
       "      <th class=\"blank col0\" >&nbsp;</th>\n",
       "      <th class=\"blank col1\" >&nbsp;</th>\n",
       "      <th class=\"blank col2\" >&nbsp;</th>\n",
       "      <th class=\"blank col3\" >&nbsp;</th>\n",
       "      <th class=\"blank col4\" >&nbsp;</th>\n",
       "      <th class=\"blank col5\" >&nbsp;</th>\n",
       "      <th class=\"blank col6\" >&nbsp;</th>\n",
       "    </tr>\n",
       "  </thead>\n",
       "  <tbody>\n",
       "    <tr>\n",
       "      <th id=\"T_06800_level0_row0\" class=\"row_heading level0 row0\" >0</th>\n",
       "      <td id=\"T_06800_row0_col0\" class=\"data row0 col0\" >57.3310</td>\n",
       "      <td id=\"T_06800_row0_col1\" class=\"data row0 col1\" >7563.8278</td>\n",
       "      <td id=\"T_06800_row0_col2\" class=\"data row0 col2\" >86.9703</td>\n",
       "      <td id=\"T_06800_row0_col3\" class=\"data row0 col3\" >0.9966</td>\n",
       "      <td id=\"T_06800_row0_col4\" class=\"data row0 col4\" >0.4676</td>\n",
       "      <td id=\"T_06800_row0_col5\" class=\"data row0 col5\" >4.2835</td>\n",
       "      <td id=\"T_06800_row0_col6\" class=\"data row0 col6\" >0.9983</td>\n",
       "    </tr>\n",
       "    <tr>\n",
       "      <th id=\"T_06800_level0_row1\" class=\"row_heading level0 row1\" >1</th>\n",
       "      <td id=\"T_06800_row1_col0\" class=\"data row1 col0\" >62.0050</td>\n",
       "      <td id=\"T_06800_row1_col1\" class=\"data row1 col1\" >8969.3169</td>\n",
       "      <td id=\"T_06800_row1_col2\" class=\"data row1 col2\" >94.7065</td>\n",
       "      <td id=\"T_06800_row1_col3\" class=\"data row1 col3\" >0.9955</td>\n",
       "      <td id=\"T_06800_row1_col4\" class=\"data row1 col4\" >0.3349</td>\n",
       "      <td id=\"T_06800_row1_col5\" class=\"data row1 col5\" >0.4016</td>\n",
       "      <td id=\"T_06800_row1_col6\" class=\"data row1 col6\" >0.9980</td>\n",
       "    </tr>\n",
       "    <tr>\n",
       "      <th id=\"T_06800_level0_row2\" class=\"row_heading level0 row2\" >2</th>\n",
       "      <td id=\"T_06800_row2_col0\" class=\"data row2 col0\" >96.3434</td>\n",
       "      <td id=\"T_06800_row2_col1\" class=\"data row2 col1\" >32246.1080</td>\n",
       "      <td id=\"T_06800_row2_col2\" class=\"data row2 col2\" >179.5720</td>\n",
       "      <td id=\"T_06800_row2_col3\" class=\"data row2 col3\" >0.9904</td>\n",
       "      <td id=\"T_06800_row2_col4\" class=\"data row2 col4\" >0.2921</td>\n",
       "      <td id=\"T_06800_row2_col5\" class=\"data row2 col5\" >0.2152</td>\n",
       "      <td id=\"T_06800_row2_col6\" class=\"data row2 col6\" >0.9962</td>\n",
       "    </tr>\n",
       "    <tr>\n",
       "      <th id=\"T_06800_level0_row3\" class=\"row_heading level0 row3\" >3</th>\n",
       "      <td id=\"T_06800_row3_col0\" class=\"data row3 col0\" >59.7910</td>\n",
       "      <td id=\"T_06800_row3_col1\" class=\"data row3 col1\" >11587.8881</td>\n",
       "      <td id=\"T_06800_row3_col2\" class=\"data row3 col2\" >107.6471</td>\n",
       "      <td id=\"T_06800_row3_col3\" class=\"data row3 col3\" >0.9955</td>\n",
       "      <td id=\"T_06800_row3_col4\" class=\"data row3 col4\" >0.2115</td>\n",
       "      <td id=\"T_06800_row3_col5\" class=\"data row3 col5\" >0.1478</td>\n",
       "      <td id=\"T_06800_row3_col6\" class=\"data row3 col6\" >0.9983</td>\n",
       "    </tr>\n",
       "    <tr>\n",
       "      <th id=\"T_06800_level0_row4\" class=\"row_heading level0 row4\" >4</th>\n",
       "      <td id=\"T_06800_row4_col0\" class=\"data row4 col0\" >84.4722</td>\n",
       "      <td id=\"T_06800_row4_col1\" class=\"data row4 col1\" >33806.7440</td>\n",
       "      <td id=\"T_06800_row4_col2\" class=\"data row4 col2\" >183.8661</td>\n",
       "      <td id=\"T_06800_row4_col3\" class=\"data row4 col3\" >0.9890</td>\n",
       "      <td id=\"T_06800_row4_col4\" class=\"data row4 col4\" >0.1655</td>\n",
       "      <td id=\"T_06800_row4_col5\" class=\"data row4 col5\" >0.1410</td>\n",
       "      <td id=\"T_06800_row4_col6\" class=\"data row4 col6\" >0.9953</td>\n",
       "    </tr>\n",
       "    <tr>\n",
       "      <th id=\"T_06800_level0_row5\" class=\"row_heading level0 row5\" >5</th>\n",
       "      <td id=\"T_06800_row5_col0\" class=\"data row5 col0\" >56.6260</td>\n",
       "      <td id=\"T_06800_row5_col1\" class=\"data row5 col1\" >9614.7116</td>\n",
       "      <td id=\"T_06800_row5_col2\" class=\"data row5 col2\" >98.0546</td>\n",
       "      <td id=\"T_06800_row5_col3\" class=\"data row5 col3\" >0.9930</td>\n",
       "      <td id=\"T_06800_row5_col4\" class=\"data row5 col4\" >0.4688</td>\n",
       "      <td id=\"T_06800_row5_col5\" class=\"data row5 col5\" >0.8105</td>\n",
       "      <td id=\"T_06800_row5_col6\" class=\"data row5 col6\" >0.9967</td>\n",
       "    </tr>\n",
       "    <tr>\n",
       "      <th id=\"T_06800_level0_row6\" class=\"row_heading level0 row6\" >6</th>\n",
       "      <td id=\"T_06800_row6_col0\" class=\"data row6 col0\" >113.9360</td>\n",
       "      <td id=\"T_06800_row6_col1\" class=\"data row6 col1\" >35468.9761</td>\n",
       "      <td id=\"T_06800_row6_col2\" class=\"data row6 col2\" >188.3321</td>\n",
       "      <td id=\"T_06800_row6_col3\" class=\"data row6 col3\" >0.9865</td>\n",
       "      <td id=\"T_06800_row6_col4\" class=\"data row6 col4\" >0.1910</td>\n",
       "      <td id=\"T_06800_row6_col5\" class=\"data row6 col5\" >0.1431</td>\n",
       "      <td id=\"T_06800_row6_col6\" class=\"data row6 col6\" >0.9933</td>\n",
       "    </tr>\n",
       "    <tr>\n",
       "      <th id=\"T_06800_level0_row7\" class=\"row_heading level0 row7\" >7</th>\n",
       "      <td id=\"T_06800_row7_col0\" class=\"data row7 col0\" >65.7625</td>\n",
       "      <td id=\"T_06800_row7_col1\" class=\"data row7 col1\" >10199.5353</td>\n",
       "      <td id=\"T_06800_row7_col2\" class=\"data row7 col2\" >100.9927</td>\n",
       "      <td id=\"T_06800_row7_col3\" class=\"data row7 col3\" >0.9951</td>\n",
       "      <td id=\"T_06800_row7_col4\" class=\"data row7 col4\" >0.2640</td>\n",
       "      <td id=\"T_06800_row7_col5\" class=\"data row7 col5\" >0.1903</td>\n",
       "      <td id=\"T_06800_row7_col6\" class=\"data row7 col6\" >0.9976</td>\n",
       "    </tr>\n",
       "    <tr>\n",
       "      <th id=\"T_06800_level0_row8\" class=\"row_heading level0 row8\" >8</th>\n",
       "      <td id=\"T_06800_row8_col0\" class=\"data row8 col0\" >83.3933</td>\n",
       "      <td id=\"T_06800_row8_col1\" class=\"data row8 col1\" >35845.8008</td>\n",
       "      <td id=\"T_06800_row8_col2\" class=\"data row8 col2\" >189.3299</td>\n",
       "      <td id=\"T_06800_row8_col3\" class=\"data row8 col3\" >0.9886</td>\n",
       "      <td id=\"T_06800_row8_col4\" class=\"data row8 col4\" >0.5293</td>\n",
       "      <td id=\"T_06800_row8_col5\" class=\"data row8 col5\" >1.4351</td>\n",
       "      <td id=\"T_06800_row8_col6\" class=\"data row8 col6\" >0.9956</td>\n",
       "    </tr>\n",
       "    <tr>\n",
       "      <th id=\"T_06800_level0_row9\" class=\"row_heading level0 row9\" >9</th>\n",
       "      <td id=\"T_06800_row9_col0\" class=\"data row9 col0\" >65.5642</td>\n",
       "      <td id=\"T_06800_row9_col1\" class=\"data row9 col1\" >9319.3732</td>\n",
       "      <td id=\"T_06800_row9_col2\" class=\"data row9 col2\" >96.5369</td>\n",
       "      <td id=\"T_06800_row9_col3\" class=\"data row9 col3\" >0.9966</td>\n",
       "      <td id=\"T_06800_row9_col4\" class=\"data row9 col4\" >0.1889</td>\n",
       "      <td id=\"T_06800_row9_col5\" class=\"data row9 col5\" >0.1062</td>\n",
       "      <td id=\"T_06800_row9_col6\" class=\"data row9 col6\" >0.9984</td>\n",
       "    </tr>\n",
       "    <tr>\n",
       "      <th id=\"T_06800_level0_row10\" class=\"row_heading level0 row10\" >Mean</th>\n",
       "      <td id=\"T_06800_row10_col0\" class=\"data row10 col0\" >74.5225</td>\n",
       "      <td id=\"T_06800_row10_col1\" class=\"data row10 col1\" >19462.2282</td>\n",
       "      <td id=\"T_06800_row10_col2\" class=\"data row10 col2\" >132.6008</td>\n",
       "      <td id=\"T_06800_row10_col3\" class=\"data row10 col3\" >0.9927</td>\n",
       "      <td id=\"T_06800_row10_col4\" class=\"data row10 col4\" >0.3114</td>\n",
       "      <td id=\"T_06800_row10_col5\" class=\"data row10 col5\" >0.7874</td>\n",
       "      <td id=\"T_06800_row10_col6\" class=\"data row10 col6\" >0.9968</td>\n",
       "    </tr>\n",
       "    <tr>\n",
       "      <th id=\"T_06800_level0_row11\" class=\"row_heading level0 row11\" >Std</th>\n",
       "      <td id=\"T_06800_row11_col0\" class=\"data row11 col0\" >18.3134</td>\n",
       "      <td id=\"T_06800_row11_col1\" class=\"data row11 col1\" >12219.4806</td>\n",
       "      <td id=\"T_06800_row11_col2\" class=\"data row11 col2\" >43.3503</td>\n",
       "      <td id=\"T_06800_row11_col3\" class=\"data row11 col3\" >0.0035</td>\n",
       "      <td id=\"T_06800_row11_col4\" class=\"data row11 col4\" >0.1267</td>\n",
       "      <td id=\"T_06800_row11_col5\" class=\"data row11 col5\" >1.2321</td>\n",
       "      <td id=\"T_06800_row11_col6\" class=\"data row11 col6\" >0.0016</td>\n",
       "    </tr>\n",
       "  </tbody>\n",
       "</table>\n"
      ],
      "text/plain": [
       "<pandas.io.formats.style.Styler at 0x7f765d9a87f0>"
      ]
     },
     "metadata": {},
     "output_type": "display_data"
    },
    {
     "data": {
      "text/html": [],
      "text/plain": [
       "<IPython.core.display.HTML object>"
      ]
     },
     "metadata": {},
     "output_type": "display_data"
    },
    {
     "name": "stdout",
     "output_type": "stream",
     "text": [
      "Fitting 10 folds for each of 10 candidates, totalling 100 fits\n"
     ]
    }
   ],
   "source": [
    "# tunando modelo para maximizar a correlação entre os valores reais e preditos\n",
    "tuned_reg = tune_model(best_reg, custom_scorer=\"corr\")"
   ]
  },
  {
   "cell_type": "code",
   "execution_count": 50,
   "metadata": {},
   "outputs": [
    {
     "data": {
      "text/html": [],
      "text/plain": [
       "<IPython.core.display.HTML object>"
      ]
     },
     "metadata": {},
     "output_type": "display_data"
    },
    {
     "data": {
      "image/png": "[encoded data removed]",
      "text/plain": [
       "<Figure size 800x500 with 1 Axes>"
      ]
     },
     "metadata": {},
     "output_type": "display_data"
    }
   ],
   "source": [
    "# Plot da importância das variáveis\n",
    "plot_model(tuned_reg, plot='feature')"
   ]
  },
  {
   "attachments": {},
   "cell_type": "markdown",
   "metadata": {},
   "source": [
    "As features X7 e X2 são as mais relevantes para o modelo de regressão. No contexto do Gradiente Boosting Regressor, a forma de cálculo da feature importance é baseado na redução da média da função de perda (RMSE) advinda da adição da feature no regressor. As features que resultam em maior redução da função de perda tem maior importância na predição.\n",
    "\n",
    "https://machinelearningmastery.com/feature-importance-and-feature-selection-with-xgboost-in-python/"
   ]
  },
  {
   "cell_type": "code",
   "execution_count": null,
   "metadata": {},
   "outputs": [],
   "source": [
    "# Treinamento do modelo com todos os dados de treinamento\n",
    "final_model = finalize_model(tuned_reg)"
   ]
  },
  {
   "cell_type": "code",
   "execution_count": 57,
   "metadata": {},
   "outputs": [
    {
     "data": {
      "text/html": [
       "<style>#sk-container-id-2 {color: black;background-color: white;}#sk-container-id-2 pre{padding: 0;}#sk-container-id-2 div.sk-toggleable {background-color: white;}#sk-container-id-2 label.sk-toggleable__label {cursor: pointer;display: block;width: 100%;margin-bottom: 0;padding: 0.3em;box-sizing: border-box;text-align: center;}#sk-container-id-2 label.sk-toggleable__label-arrow:before {content: \"▸\";float: left;margin-right: 0.25em;color: #696969;}#sk-container-id-2 label.sk-toggleable__label-arrow:hover:before {color: black;}#sk-container-id-2 div.sk-estimator:hover label.sk-toggleable__label-arrow:before {color: black;}#sk-container-id-2 div.sk-toggleable__content {max-height: 0;max-width: 0;overflow: hidden;text-align: left;background-color: #f0f8ff;}#sk-container-id-2 div.sk-toggleable__content pre {margin: 0.2em;color: black;border-radius: 0.25em;background-color: #f0f8ff;}#sk-container-id-2 input.sk-toggleable__control:checked~div.sk-toggleable__content {max-height: 200px;max-width: 100%;overflow: auto;}#sk-container-id-2 input.sk-toggleable__control:checked~label.sk-toggleable__label-arrow:before {content: \"▾\";}#sk-container-id-2 div.sk-estimator input.sk-toggleable__control:checked~label.sk-toggleable__label {background-color: #d4ebff;}#sk-container-id-2 div.sk-label input.sk-toggleable__control:checked~label.sk-toggleable__label {background-color: #d4ebff;}#sk-container-id-2 input.sk-hidden--visually {border: 0;clip: rect(1px 1px 1px 1px);clip: rect(1px, 1px, 1px, 1px);height: 1px;margin: -1px;overflow: hidden;padding: 0;position: absolute;width: 1px;}#sk-container-id-2 div.sk-estimator {font-family: monospace;background-color: #f0f8ff;border: 1px dotted black;border-radius: 0.25em;box-sizing: border-box;margin-bottom: 0.5em;}#sk-container-id-2 div.sk-estimator:hover {background-color: #d4ebff;}#sk-container-id-2 div.sk-parallel-item::after {content: \"\";width: 100%;border-bottom: 1px solid gray;flex-grow: 1;}#sk-container-id-2 div.sk-label:hover label.sk-toggleable__label {background-color: #d4ebff;}#sk-container-id-2 div.sk-serial::before {content: \"\";position: absolute;border-left: 1px solid gray;box-sizing: border-box;top: 0;bottom: 0;left: 50%;z-index: 0;}#sk-container-id-2 div.sk-serial {display: flex;flex-direction: column;align-items: center;background-color: white;padding-right: 0.2em;padding-left: 0.2em;position: relative;}#sk-container-id-2 div.sk-item {position: relative;z-index: 1;}#sk-container-id-2 div.sk-parallel {display: flex;align-items: stretch;justify-content: center;background-color: white;position: relative;}#sk-container-id-2 div.sk-item::before, #sk-container-id-2 div.sk-parallel-item::before {content: \"\";position: absolute;border-left: 1px solid gray;box-sizing: border-box;top: 0;bottom: 0;left: 50%;z-index: -1;}#sk-container-id-2 div.sk-parallel-item {display: flex;flex-direction: column;z-index: 1;position: relative;background-color: white;}#sk-container-id-2 div.sk-parallel-item:first-child::after {align-self: flex-end;width: 50%;}#sk-container-id-2 div.sk-parallel-item:last-child::after {align-self: flex-start;width: 50%;}#sk-container-id-2 div.sk-parallel-item:only-child::after {width: 0;}#sk-container-id-2 div.sk-dashed-wrapped {border: 1px dashed gray;margin: 0 0.4em 0.5em 0.4em;box-sizing: border-box;padding-bottom: 0.4em;background-color: white;}#sk-container-id-2 div.sk-label label {font-family: monospace;font-weight: bold;display: inline-block;line-height: 1.2em;}#sk-container-id-2 div.sk-label-container {text-align: center;}#sk-container-id-2 div.sk-container {/* jupyter's `normalize.less` sets `[hidden] { display: none; }` but bootstrap.min.css set `[hidden] { display: none !important; }` so we also need the `!important` here to be able to override the default hidden behavior on the sphinx rendered scikit-learn.org. See: https://github.com/scikit-learn/scikit-learn/issues/21755 */display: inline-block !important;position: relative;}#sk-container-id-2 div.sk-text-repr-fallback {display: none;}</style><div id=\"sk-container-id-2\" class=\"sk-top-container\"><div class=\"sk-text-repr-fallback\"><pre>Pipeline(memory=FastMemory(location=/tmp/joblib),\n",
       "         steps=[(&#x27;numerical_imputer&#x27;,\n",
       "                 TransformerWrapper(exclude=None,\n",
       "                                    include=[&#x27;X1&#x27;, &#x27;X2&#x27;, &#x27;X3&#x27;, &#x27;X4&#x27;, &#x27;X5&#x27;, &#x27;X6&#x27;,\n",
       "                                             &#x27;X7&#x27;],\n",
       "                                    transformer=KNNImputer(add_indicator=False,\n",
       "                                                           copy=True,\n",
       "                                                           keep_empty_features=False,\n",
       "                                                           metric=&#x27;nan_euclidean&#x27;,\n",
       "                                                           missing_values=nan,\n",
       "                                                           n_neighbors=5,\n",
       "                                                           weights=&#x27;uniform&#x27;))),\n",
       "                (&#x27;categorical_imputer&#x27;,\n",
       "                 TransformerWrappe...\n",
       "                                           criterion=&#x27;friedman_mse&#x27;, init=None,\n",
       "                                           learning_rate=0.15,\n",
       "                                           loss=&#x27;squared_error&#x27;, max_depth=7,\n",
       "                                           max_features=1.0,\n",
       "                                           max_leaf_nodes=None,\n",
       "                                           min_impurity_decrease=0.02,\n",
       "                                           min_samples_leaf=5,\n",
       "                                           min_samples_split=5,\n",
       "                                           min_weight_fraction_leaf=0.0,\n",
       "                                           n_estimators=230,\n",
       "                                           n_iter_no_change=None,\n",
       "                                           random_state=123, subsample=0.85,\n",
       "                                           tol=0.0001, validation_fraction=0.1,\n",
       "                                           verbose=0, warm_start=False))],\n",
       "         verbose=False)</pre><b>In a Jupyter environment, please rerun this cell to show the HTML representation or trust the notebook. <br />On GitHub, the HTML representation is unable to render, please try loading this page with nbviewer.org.</b></div><div class=\"sk-container\" hidden><div class=\"sk-item sk-dashed-wrapped\"><div class=\"sk-label-container\"><div class=\"sk-label sk-toggleable\"><input class=\"sk-toggleable__control sk-hidden--visually\" id=\"sk-estimator-id-2\" type=\"checkbox\" ><label for=\"sk-estimator-id-2\" class=\"sk-toggleable__label sk-toggleable__label-arrow\">Pipeline</label><div class=\"sk-toggleable__content\"><pre>Pipeline(memory=FastMemory(location=/tmp/joblib),\n",
       "         steps=[(&#x27;numerical_imputer&#x27;,\n",
       "                 TransformerWrapper(exclude=None,\n",
       "                                    include=[&#x27;X1&#x27;, &#x27;X2&#x27;, &#x27;X3&#x27;, &#x27;X4&#x27;, &#x27;X5&#x27;, &#x27;X6&#x27;,\n",
       "                                             &#x27;X7&#x27;],\n",
       "                                    transformer=KNNImputer(add_indicator=False,\n",
       "                                                           copy=True,\n",
       "                                                           keep_empty_features=False,\n",
       "                                                           metric=&#x27;nan_euclidean&#x27;,\n",
       "                                                           missing_values=nan,\n",
       "                                                           n_neighbors=5,\n",
       "                                                           weights=&#x27;uniform&#x27;))),\n",
       "                (&#x27;categorical_imputer&#x27;,\n",
       "                 TransformerWrappe...\n",
       "                                           criterion=&#x27;friedman_mse&#x27;, init=None,\n",
       "                                           learning_rate=0.15,\n",
       "                                           loss=&#x27;squared_error&#x27;, max_depth=7,\n",
       "                                           max_features=1.0,\n",
       "                                           max_leaf_nodes=None,\n",
       "                                           min_impurity_decrease=0.02,\n",
       "                                           min_samples_leaf=5,\n",
       "                                           min_samples_split=5,\n",
       "                                           min_weight_fraction_leaf=0.0,\n",
       "                                           n_estimators=230,\n",
       "                                           n_iter_no_change=None,\n",
       "                                           random_state=123, subsample=0.85,\n",
       "                                           tol=0.0001, validation_fraction=0.1,\n",
       "                                           verbose=0, warm_start=False))],\n",
       "         verbose=False)</pre></div></div></div><div class=\"sk-serial\"><div class=\"sk-item sk-dashed-wrapped\"><div class=\"sk-label-container\"><div class=\"sk-label sk-toggleable\"><input class=\"sk-toggleable__control sk-hidden--visually\" id=\"sk-estimator-id-3\" type=\"checkbox\" ><label for=\"sk-estimator-id-3\" class=\"sk-toggleable__label sk-toggleable__label-arrow\">numerical_imputer: TransformerWrapper</label><div class=\"sk-toggleable__content\"><pre>TransformerWrapper(exclude=None,\n",
       "                   include=[&#x27;X1&#x27;, &#x27;X2&#x27;, &#x27;X3&#x27;, &#x27;X4&#x27;, &#x27;X5&#x27;, &#x27;X6&#x27;, &#x27;X7&#x27;],\n",
       "                   transformer=KNNImputer(add_indicator=False, copy=True,\n",
       "                                          keep_empty_features=False,\n",
       "                                          metric=&#x27;nan_euclidean&#x27;,\n",
       "                                          missing_values=nan, n_neighbors=5,\n",
       "                                          weights=&#x27;uniform&#x27;))</pre></div></div></div><div class=\"sk-parallel\"><div class=\"sk-parallel-item\"><div class=\"sk-item\"><div class=\"sk-label-container\"><div class=\"sk-label sk-toggleable\"><input class=\"sk-toggleable__control sk-hidden--visually\" id=\"sk-estimator-id-4\" type=\"checkbox\" ><label for=\"sk-estimator-id-4\" class=\"sk-toggleable__label sk-toggleable__label-arrow\">transformer: KNNImputer</label><div class=\"sk-toggleable__content\"><pre>KNNImputer()</pre></div></div></div><div class=\"sk-serial\"><div class=\"sk-item\"><div class=\"sk-estimator sk-toggleable\"><input class=\"sk-toggleable__control sk-hidden--visually\" id=\"sk-estimator-id-5\" type=\"checkbox\" ><label for=\"sk-estimator-id-5\" class=\"sk-toggleable__label sk-toggleable__label-arrow\">KNNImputer</label><div class=\"sk-toggleable__content\"><pre>KNNImputer()</pre></div></div></div></div></div></div></div></div><div class=\"sk-item sk-dashed-wrapped\"><div class=\"sk-label-container\"><div class=\"sk-label sk-toggleable\"><input class=\"sk-toggleable__control sk-hidden--visually\" id=\"sk-estimator-id-6\" type=\"checkbox\" ><label for=\"sk-estimator-id-6\" class=\"sk-toggleable__label sk-toggleable__label-arrow\">categorical_imputer: TransformerWrapper</label><div class=\"sk-toggleable__content\"><pre>TransformerWrapper(exclude=None, include=[],\n",
       "                   transformer=SimpleImputer(add_indicator=False, copy=True,\n",
       "                                             fill_value=None,\n",
       "                                             keep_empty_features=False,\n",
       "                                             missing_values=nan,\n",
       "                                             strategy=&#x27;most_frequent&#x27;,\n",
       "                                             verbose=&#x27;deprecated&#x27;))</pre></div></div></div><div class=\"sk-parallel\"><div class=\"sk-parallel-item\"><div class=\"sk-item\"><div class=\"sk-label-container\"><div class=\"sk-label sk-toggleable\"><input class=\"sk-toggleable__control sk-hidden--visually\" id=\"sk-estimator-id-7\" type=\"checkbox\" ><label for=\"sk-estimator-id-7\" class=\"sk-toggleable__label sk-toggleable__label-arrow\">transformer: SimpleImputer</label><div class=\"sk-toggleable__content\"><pre>SimpleImputer(strategy=&#x27;most_frequent&#x27;)</pre></div></div></div><div class=\"sk-serial\"><div class=\"sk-item\"><div class=\"sk-estimator sk-toggleable\"><input class=\"sk-toggleable__control sk-hidden--visually\" id=\"sk-estimator-id-8\" type=\"checkbox\" ><label for=\"sk-estimator-id-8\" class=\"sk-toggleable__label sk-toggleable__label-arrow\">SimpleImputer</label><div class=\"sk-toggleable__content\"><pre>SimpleImputer(strategy=&#x27;most_frequent&#x27;)</pre></div></div></div></div></div></div></div></div><div class=\"sk-item\"><div class=\"sk-estimator sk-toggleable\"><input class=\"sk-toggleable__control sk-hidden--visually\" id=\"sk-estimator-id-9\" type=\"checkbox\" ><label for=\"sk-estimator-id-9\" class=\"sk-toggleable__label sk-toggleable__label-arrow\">GradientBoostingRegressor</label><div class=\"sk-toggleable__content\"><pre>GradientBoostingRegressor(learning_rate=0.15, max_depth=7, max_features=1.0,\n",
       "                          min_impurity_decrease=0.02, min_samples_leaf=5,\n",
       "                          min_samples_split=5, n_estimators=230,\n",
       "                          random_state=123, subsample=0.85)</pre></div></div></div></div></div></div></div>"
      ],
      "text/plain": [
       "Pipeline(memory=FastMemory(location=/tmp/joblib),\n",
       "         steps=[('numerical_imputer',\n",
       "                 TransformerWrapper(exclude=None,\n",
       "                                    include=['X1', 'X2', 'X3', 'X4', 'X5', 'X6',\n",
       "                                             'X7'],\n",
       "                                    transformer=KNNImputer(add_indicator=False,\n",
       "                                                           copy=True,\n",
       "                                                           keep_empty_features=False,\n",
       "                                                           metric='nan_euclidean',\n",
       "                                                           missing_values=nan,\n",
       "                                                           n_neighbors=5,\n",
       "                                                           weights='uniform'))),\n",
       "                ('categorical_imputer',\n",
       "                 TransformerWrappe...\n",
       "                                           criterion='friedman_mse', init=None,\n",
       "                                           learning_rate=0.15,\n",
       "                                           loss='squared_error', max_depth=7,\n",
       "                                           max_features=1.0,\n",
       "                                           max_leaf_nodes=None,\n",
       "                                           min_impurity_decrease=0.02,\n",
       "                                           min_samples_leaf=5,\n",
       "                                           min_samples_split=5,\n",
       "                                           min_weight_fraction_leaf=0.0,\n",
       "                                           n_estimators=230,\n",
       "                                           n_iter_no_change=None,\n",
       "                                           random_state=123, subsample=0.85,\n",
       "                                           tol=0.0001, validation_fraction=0.1,\n",
       "                                           verbose=0, warm_start=False))],\n",
       "         verbose=False)"
      ]
     },
     "execution_count": 57,
     "metadata": {},
     "output_type": "execute_result"
    }
   ],
   "source": [
    "final_model"
   ]
  },
  {
   "cell_type": "code",
   "execution_count": 59,
   "metadata": {},
   "outputs": [
    {
     "data": {
      "text/html": [],
      "text/plain": [
       "<IPython.core.display.HTML object>"
      ]
     },
     "metadata": {},
     "output_type": "display_data"
    },
    {
     "data": {
      "image/png": "[encoded data removed]",
      "text/plain": [
       "<Figure size 800x500 with 1 Axes>"
      ]
     },
     "metadata": {},
     "output_type": "display_data"
    }
   ],
   "source": [
    "plot_model(final_model, plot='feature')"
   ]
  },
  {
   "cell_type": "code",
   "execution_count": 61,
   "metadata": {},
   "outputs": [
    {
     "name": "stdout",
     "output_type": "stream",
     "text": [
      "Transformation Pipeline and Model Successfully Saved\n"
     ]
    },
    {
     "data": {
      "text/plain": [
       "(Pipeline(memory=FastMemory(location=/tmp/joblib),\n",
       "          steps=[('numerical_imputer',\n",
       "                  TransformerWrapper(exclude=None,\n",
       "                                     include=['X1', 'X2', 'X3', 'X4', 'X5', 'X6',\n",
       "                                              'X7'],\n",
       "                                     transformer=KNNImputer(add_indicator=False,\n",
       "                                                            copy=True,\n",
       "                                                            keep_empty_features=False,\n",
       "                                                            metric='nan_euclidean',\n",
       "                                                            missing_values=nan,\n",
       "                                                            n_neighbors=5,\n",
       "                                                            weights='uniform'))),\n",
       "                 ('categorical_imputer',\n",
       "                  TransformerWrappe...\n",
       "                                            criterion='friedman_mse', init=None,\n",
       "                                            learning_rate=0.15,\n",
       "                                            loss='squared_error', max_depth=7,\n",
       "                                            max_features=1.0,\n",
       "                                            max_leaf_nodes=None,\n",
       "                                            min_impurity_decrease=0.02,\n",
       "                                            min_samples_leaf=5,\n",
       "                                            min_samples_split=5,\n",
       "                                            min_weight_fraction_leaf=0.0,\n",
       "                                            n_estimators=230,\n",
       "                                            n_iter_no_change=None,\n",
       "                                            random_state=123, subsample=0.85,\n",
       "                                            tol=0.0001, validation_fraction=0.1,\n",
       "                                            verbose=0, warm_start=False))],\n",
       "          verbose=False),\n",
       " 'Models/regression_model.pkl')"
      ]
     },
     "execution_count": 61,
     "metadata": {},
     "output_type": "execute_result"
    }
   ],
   "source": [
    "save_model(final_model, 'Models/regression_model')"
   ]
  }
 ],
 "metadata": {
  "kernelspec": {
   "display_name": "venv",
   "language": "python",
   "name": "python3"
  },
  "language_info": {
   "codemirror_mode": {
    "name": "ipython",
    "version": 3
   },
   "file_extension": ".py",
   "mimetype": "text/x-python",
   "name": "python",
   "nbconvert_exporter": "python",
   "pygments_lexer": "ipython3",
   "version": "3.10.6"
  },
  "orig_nbformat": 4
 },
 "nbformat": 4,
 "nbformat_minor": 2
}
